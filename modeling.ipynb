{
 "cells": [
  {
   "cell_type": "code",
   "execution_count": 1,
   "id": "eb6feade",
   "metadata": {},
   "outputs": [],
   "source": [
    "import numpy as np\n",
    "import pandas as pd\n",
    "\n",
    "import wrangle as w\n",
    "\n",
    "from sklearn.feature_extraction.text import CountVectorizer\n",
    "from sklearn.feature_extraction.text import TfidfVectorizer\n",
    "\n",
    "from sklearn.tree import DecisionTreeClassifier\n",
    "from sklearn.ensemble import RandomForestClassifier\n",
    "from sklearn.neighbors import KNeighborsClassifier\n",
    "from sklearn.linear_model import LogisticRegression\n",
    "\n",
    "from sklearn.metrics import accuracy_score, \\\n",
    "    confusion_matrix,\\\n",
    "    classification_report"
   ]
  },
  {
   "cell_type": "code",
   "execution_count": 2,
   "id": "f678d25c",
   "metadata": {},
   "outputs": [],
   "source": [
    "readmes = w.wrangle_github_repositories()"
   ]
  },
  {
   "cell_type": "code",
   "execution_count": 3,
   "id": "f7df40a7",
   "metadata": {},
   "outputs": [
    {
     "data": {
      "text/html": [
       "<div>\n",
       "<style scoped>\n",
       "    .dataframe tbody tr th:only-of-type {\n",
       "        vertical-align: middle;\n",
       "    }\n",
       "\n",
       "    .dataframe tbody tr th {\n",
       "        vertical-align: top;\n",
       "    }\n",
       "\n",
       "    .dataframe thead th {\n",
       "        text-align: right;\n",
       "    }\n",
       "</style>\n",
       "<table border=\"1\" class=\"dataframe\">\n",
       "  <thead>\n",
       "    <tr style=\"text-align: right;\">\n",
       "      <th></th>\n",
       "      <th>repo</th>\n",
       "      <th>language</th>\n",
       "      <th>readme_contents</th>\n",
       "      <th>cleaned_readme_contents</th>\n",
       "    </tr>\n",
       "  </thead>\n",
       "  <tbody>\n",
       "    <tr>\n",
       "      <th>0</th>\n",
       "      <td>huggingface/transformers</td>\n",
       "      <td>Python</td>\n",
       "      <td>&lt;!---\\nCopyright 2020 The HuggingFace Team. Al...</td>\n",
       "      <td>copyright 2020 huggingface team right reserved...</td>\n",
       "    </tr>\n",
       "    <tr>\n",
       "      <th>1</th>\n",
       "      <td>apachecn/ailearning</td>\n",
       "      <td>Python</td>\n",
       "      <td>&lt;p align=\"center\"&gt;\\n    &lt;a href=\"https://www.a...</td>\n",
       "      <td>p aligncenter hrefhttpswwwapachecnorg img widt...</td>\n",
       "    </tr>\n",
       "    <tr>\n",
       "      <th>2</th>\n",
       "      <td>google-research/bert</td>\n",
       "      <td>Python</td>\n",
       "      <td># BERT\\n\\n**\\*\\*\\*\\*\\* New March 11th, 2020: S...</td>\n",
       "      <td>bert new march 11th 2020 smaller bert model re...</td>\n",
       "    </tr>\n",
       "  </tbody>\n",
       "</table>\n",
       "</div>"
      ],
      "text/plain": [
       "                       repo language  \\\n",
       "0  huggingface/transformers   Python   \n",
       "1       apachecn/ailearning   Python   \n",
       "2      google-research/bert   Python   \n",
       "\n",
       "                                     readme_contents  \\\n",
       "0  <!---\\nCopyright 2020 The HuggingFace Team. Al...   \n",
       "1  <p align=\"center\">\\n    <a href=\"https://www.a...   \n",
       "2  # BERT\\n\\n**\\*\\*\\*\\*\\* New March 11th, 2020: S...   \n",
       "\n",
       "                             cleaned_readme_contents  \n",
       "0  copyright 2020 huggingface team right reserved...  \n",
       "1  p aligncenter hrefhttpswwwapachecnorg img widt...  \n",
       "2  bert new march 11th 2020 smaller bert model re...  "
      ]
     },
     "execution_count": 3,
     "metadata": {},
     "output_type": "execute_result"
    }
   ],
   "source": [
    "readmes.head(3)"
   ]
  },
  {
   "cell_type": "code",
   "execution_count": null,
   "id": "20a340dc",
   "metadata": {},
   "outputs": [],
   "source": []
  },
  {
   "cell_type": "code",
   "execution_count": 7,
   "id": "785d2e93",
   "metadata": {},
   "outputs": [],
   "source": [
    "# remove null rows (adding this to prep stage)\n",
    "readmes = readmes[readmes.cleaned_readme_contents.isna() == False]"
   ]
  },
  {
   "cell_type": "markdown",
   "id": "0db47efd",
   "metadata": {},
   "source": [
    "## Split data"
   ]
  },
  {
   "cell_type": "code",
   "execution_count": 8,
   "id": "7430a0fc",
   "metadata": {},
   "outputs": [],
   "source": [
    "train, validate, test = w.train_split(readmes)"
   ]
  },
  {
   "cell_type": "code",
   "execution_count": 9,
   "id": "53165b0f",
   "metadata": {},
   "outputs": [
    {
     "data": {
      "text/plain": [
       "((493, 4), (275, 4), (119, 4), (99, 4))"
      ]
     },
     "execution_count": 9,
     "metadata": {},
     "output_type": "execute_result"
    }
   ],
   "source": [
    "readmes.shape, train.shape, validate.shape, test.shape"
   ]
  },
  {
   "cell_type": "code",
   "execution_count": 13,
   "id": "9b5363a7",
   "metadata": {},
   "outputs": [],
   "source": [
    "X_train = train.cleaned_readme_contents\n",
    "y_train = train.language\n",
    "X_validate = validate.cleaned_readme_contents\n",
    "y_validate = validate.language\n",
    "X_test = test.cleaned_readme_contents\n",
    "y_test = test.language"
   ]
  },
  {
   "cell_type": "markdown",
   "id": "d570969a",
   "metadata": {},
   "source": [
    "## Baseline"
   ]
  },
  {
   "cell_type": "code",
   "execution_count": 19,
   "id": "0bd0f3d5",
   "metadata": {},
   "outputs": [
    {
     "data": {
      "text/plain": [
       "Python    0.610909\n",
       "HTML      0.389091\n",
       "Name: language, dtype: float64"
      ]
     },
     "execution_count": 19,
     "metadata": {},
     "output_type": "execute_result"
    }
   ],
   "source": [
    "train.language.value_counts(normalize=True)"
   ]
  },
  {
   "cell_type": "code",
   "execution_count": 20,
   "id": "cddaba7d",
   "metadata": {},
   "outputs": [],
   "source": [
    "baseline = 'Python'"
   ]
  },
  {
   "cell_type": "markdown",
   "id": "192874e4",
   "metadata": {},
   "source": [
    "## The baseline is 'Python' with an accuacy of 61%"
   ]
  },
  {
   "cell_type": "markdown",
   "id": "9a82b7e1",
   "metadata": {},
   "source": [
    "# Modeling"
   ]
  },
  {
   "cell_type": "code",
   "execution_count": null,
   "id": "47632123",
   "metadata": {},
   "outputs": [],
   "source": []
  },
  {
   "cell_type": "code",
   "execution_count": 14,
   "id": "a9123369",
   "metadata": {},
   "outputs": [
    {
     "data": {
      "text/plain": [
       "0.8836363636363637"
      ]
     },
     "execution_count": 14,
     "metadata": {},
     "output_type": "execute_result"
    }
   ],
   "source": [
    "# make a Count Vectorizer object\n",
    "cv = CountVectorizer()\n",
    "# use the thing\n",
    "X_bow = cv.fit_transform(X_train)\n",
    "tree = DecisionTreeClassifier(max_depth=3)\n",
    "tree.fit(X_bow, y_train)\n",
    "tree.score(X_bow, y_train)"
   ]
  },
  {
   "cell_type": "code",
   "execution_count": null,
   "id": "29b9cc37",
   "metadata": {},
   "outputs": [],
   "source": []
  },
  {
   "cell_type": "code",
   "execution_count": 11,
   "id": "0ef80290",
   "metadata": {},
   "outputs": [
    {
     "data": {
      "text/plain": [
       "<275x36883 sparse matrix of type '<class 'numpy.int64'>'\n",
       "\twith 85429 stored elements in Compressed Sparse Row format>"
      ]
     },
     "execution_count": 11,
     "metadata": {},
     "output_type": "execute_result"
    }
   ],
   "source": [
    "bag_of_words_cv"
   ]
  },
  {
   "cell_type": "code",
   "execution_count": 12,
   "id": "8c845397",
   "metadata": {},
   "outputs": [],
   "source": [
    "# make a Tfidf Vectorizer object\n",
    "tfidf = TfidfVectorizer()\n",
    "# use the thing\n",
    "bag_of_words_tfidf = tfidf.fit_transform(X_train)"
   ]
  },
  {
   "cell_type": "code",
   "execution_count": null,
   "id": "7298aeb0",
   "metadata": {},
   "outputs": [],
   "source": []
  },
  {
   "cell_type": "code",
   "execution_count": null,
   "id": "706c8006",
   "metadata": {},
   "outputs": [],
   "source": [
    "cv = CountVectorizer(ngram_range=(2, 3))\n",
    "bag_of_grams = cv.fit_transform(X_train)"
   ]
  },
  {
   "cell_type": "code",
   "execution_count": null,
   "id": "bd3af8ab",
   "metadata": {},
   "outputs": [],
   "source": [
    "tfidf = CountVectorizer(ngram_range=(2, 3))\n",
    "bag_of_grams = tfidf.fit_transform(X_train)"
   ]
  },
  {
   "cell_type": "code",
   "execution_count": null,
   "id": "30046377",
   "metadata": {},
   "outputs": [],
   "source": []
  },
  {
   "cell_type": "code",
   "execution_count": null,
   "id": "e16f1999",
   "metadata": {},
   "outputs": [],
   "source": [
    "def model_metrics(model,\n",
    "                  model_name,\n",
    "                  X_train, \n",
    "                  y_train, \n",
    "                  X_val, \n",
    "                  y_val, \n",
    "                  scores=metric_df):\n",
    "    '''\n",
    "    model_metrics will use an sklearn model object to \n",
    "    create predictions after fitting on our training set, and add\n",
    "    the model scores to a pre-established metric_df\n",
    "    returns: metric_df\n",
    "    **TODO: create a check to see if metric_df exists.  \n",
    "    Create it if not\n",
    "    '''\n",
    "    # fit our model object\n",
    "    model.fit(X_train, y_train['Infant.Mortality'])\n",
    "    in_sample_pred = model.predict(X_train)\n",
    "    out_sample_pred = model.predict(X_val)\n",
    "#     model_name = input('Name for model? python identifer friendly pls.\\n')\n",
    "    y_train[model_name] = in_sample_pred\n",
    "    y_val[model_name] = out_sample_pred\n",
    "    print(y_val.shape)\n",
    "    print(out_sample_pred.shape)\n",
    "    rmse_val = mean_squared_error(\n",
    "    y_val['Infant.Mortality'], out_sample_pred, squared=False)\n",
    "    r_squared_val = explained_variance_score(\n",
    "        y_val['Infant.Mortality'], out_sample_pred)\n",
    "    return metric_df.append({\n",
    "        'model': model_name,\n",
    "        'rmse': rmse_val,\n",
    "        'r^2': r_squared_val\n",
    "    \n",
    "    }, ignore_index=True)"
   ]
  }
 ],
 "metadata": {
  "kernelspec": {
   "display_name": "Python 3 (ipykernel)",
   "language": "python",
   "name": "python3"
  },
  "language_info": {
   "codemirror_mode": {
    "name": "ipython",
    "version": 3
   },
   "file_extension": ".py",
   "mimetype": "text/x-python",
   "name": "python",
   "nbconvert_exporter": "python",
   "pygments_lexer": "ipython3",
   "version": "3.9.13"
  }
 },
 "nbformat": 4,
 "nbformat_minor": 5
}
