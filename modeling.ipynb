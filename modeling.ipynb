{
 "cells": [
  {
   "cell_type": "code",
   "execution_count": 1,
   "id": "9421f74e",
   "metadata": {},
   "outputs": [],
   "source": [
    "# import data manipulation tools\n",
    "import numpy as np\n",
    "import pandas as pd\n",
    "# import data wrangling functions\n",
    "import wrangle as w\n",
    "# import nlp word counting functions\n",
    "from sklearn.feature_extraction.text import CountVectorizer\n",
    "from sklearn.feature_extraction.text import TfidfVectorizer\n",
    "# import classification models\n",
    "from sklearn.tree import DecisionTreeClassifier\n",
    "from sklearn.ensemble import RandomForestClassifier\n",
    "from sklearn.neighbors import KNeighborsClassifier\n",
    "from sklearn.linear_model import LogisticRegression\n",
    "# import classification metrics\n",
    "from sklearn.metrics import accuracy_score\n",
    "# ignore warning mesages\n",
    "import warnings\n",
    "warnings.filterwarnings(\"ignore\")"
   ]
  },
  {
   "cell_type": "code",
   "execution_count": 2,
   "id": "0e1328b7",
   "metadata": {},
   "outputs": [],
   "source": [
    "readmes = w.post_explore_wrangle_github_repositories()"
   ]
  },
  {
   "cell_type": "code",
   "execution_count": 3,
   "id": "a9fcddd1",
   "metadata": {},
   "outputs": [
    {
     "data": {
      "text/html": [
       "<div>\n",
       "<style scoped>\n",
       "    .dataframe tbody tr th:only-of-type {\n",
       "        vertical-align: middle;\n",
       "    }\n",
       "\n",
       "    .dataframe tbody tr th {\n",
       "        vertical-align: top;\n",
       "    }\n",
       "\n",
       "    .dataframe thead th {\n",
       "        text-align: right;\n",
       "    }\n",
       "</style>\n",
       "<table border=\"1\" class=\"dataframe\">\n",
       "  <thead>\n",
       "    <tr style=\"text-align: right;\">\n",
       "      <th></th>\n",
       "      <th>repo</th>\n",
       "      <th>language</th>\n",
       "      <th>readme_contents</th>\n",
       "      <th>cleaned_readme_contents</th>\n",
       "    </tr>\n",
       "  </thead>\n",
       "  <tbody>\n",
       "    <tr>\n",
       "      <th>0</th>\n",
       "      <td>huggingface/transformers</td>\n",
       "      <td>Python</td>\n",
       "      <td>&lt;!---\\nCopyright 2020 The HuggingFace Team. Al...</td>\n",
       "      <td>copyright 2020 huggingface team right reserved...</td>\n",
       "    </tr>\n",
       "    <tr>\n",
       "      <th>1</th>\n",
       "      <td>apachecn/ailearning</td>\n",
       "      <td>Python</td>\n",
       "      <td>&lt;p align=\"center\"&gt;\\n    &lt;a href=\"https://www.a...</td>\n",
       "      <td>p aligncenter hrefhttpswwwapachecnorg img widt...</td>\n",
       "    </tr>\n",
       "    <tr>\n",
       "      <th>2</th>\n",
       "      <td>google-research/bert</td>\n",
       "      <td>Python</td>\n",
       "      <td># BERT\\n\\n**\\*\\*\\*\\*\\* New March 11th, 2020: S...</td>\n",
       "      <td>bert new march 11th 2020 smaller bert model re...</td>\n",
       "    </tr>\n",
       "  </tbody>\n",
       "</table>\n",
       "</div>"
      ],
      "text/plain": [
       "                       repo language  \\\n",
       "0  huggingface/transformers   Python   \n",
       "1       apachecn/ailearning   Python   \n",
       "2      google-research/bert   Python   \n",
       "\n",
       "                                     readme_contents  \\\n",
       "0  <!---\\nCopyright 2020 The HuggingFace Team. Al...   \n",
       "1  <p align=\"center\">\\n    <a href=\"https://www.a...   \n",
       "2  # BERT\\n\\n**\\*\\*\\*\\*\\* New March 11th, 2020: S...   \n",
       "\n",
       "                             cleaned_readme_contents  \n",
       "0  copyright 2020 huggingface team right reserved...  \n",
       "1  p aligncenter hrefhttpswwwapachecnorg img widt...  \n",
       "2  bert new march 11th 2020 smaller bert model re...  "
      ]
     },
     "execution_count": 3,
     "metadata": {},
     "output_type": "execute_result"
    }
   ],
   "source": [
    "readmes.head(3)"
   ]
  },
  {
   "cell_type": "code",
   "execution_count": null,
   "id": "929707fb",
   "metadata": {},
   "outputs": [],
   "source": []
  },
  {
   "cell_type": "code",
   "execution_count": 4,
   "id": "cf7e79ee",
   "metadata": {},
   "outputs": [],
   "source": [
    "# remove null rows (adding this to prep stage)\n",
    "# readmes = readmes[readmes.cleaned_readme_contents.isna() == False]"
   ]
  },
  {
   "cell_type": "markdown",
   "id": "9ac4be58",
   "metadata": {},
   "source": [
    "## Split data"
   ]
  },
  {
   "cell_type": "code",
   "execution_count": 3,
   "id": "fe344691",
   "metadata": {},
   "outputs": [],
   "source": [
    "train, validate, test = w.train_split(readmes)"
   ]
  },
  {
   "cell_type": "code",
   "execution_count": 4,
   "id": "f72cfb69",
   "metadata": {},
   "outputs": [
    {
     "data": {
      "text/plain": [
       "((499, 4), (349, 4), (100, 4), (50, 4))"
      ]
     },
     "execution_count": 4,
     "metadata": {},
     "output_type": "execute_result"
    }
   ],
   "source": [
    "readmes.shape, train.shape, validate.shape, test.shape"
   ]
  },
  {
   "cell_type": "code",
   "execution_count": 5,
   "id": "d0bbb79f",
   "metadata": {},
   "outputs": [],
   "source": [
    "X_train = train.cleaned_readme_contents\n",
    "y_train = train.language\n",
    "X_validate = validate.cleaned_readme_contents\n",
    "y_validate = validate.language\n",
    "X_test = test.cleaned_readme_contents\n",
    "y_test = test.language"
   ]
  },
  {
   "cell_type": "markdown",
   "id": "0575e996",
   "metadata": {},
   "source": [
    "## Baseline"
   ]
  },
  {
   "cell_type": "code",
   "execution_count": 8,
   "id": "c1475e80",
   "metadata": {},
   "outputs": [
    {
     "data": {
      "text/plain": [
       "Python    0.598854\n",
       "HTML      0.401146\n",
       "Name: language, dtype: float64"
      ]
     },
     "execution_count": 8,
     "metadata": {},
     "output_type": "execute_result"
    }
   ],
   "source": [
    "train.language.value_counts(normalize=True)"
   ]
  },
  {
   "cell_type": "code",
   "execution_count": 9,
   "id": "625281b8",
   "metadata": {},
   "outputs": [
    {
     "data": {
      "text/plain": [
       "0.5988538681948424"
      ]
     },
     "execution_count": 9,
     "metadata": {},
     "output_type": "execute_result"
    }
   ],
   "source": [
    "train.language.value_counts(normalize=True)[0]"
   ]
  },
  {
   "cell_type": "markdown",
   "id": "3aea7a6b",
   "metadata": {},
   "source": [
    "### baseline = 'Python'"
   ]
  },
  {
   "cell_type": "code",
   "execution_count": 10,
   "id": "74a65017",
   "metadata": {},
   "outputs": [],
   "source": [
    "def get_model_baseline(train, validate):\n",
    "    '''\n",
    "    This will display the metrics for the baseline model using the mode of the dataset\n",
    "    '''\n",
    "    # get the mode of the training dataset\n",
    "    accuracy = train.language.value_counts(normalize=True)[0]\n",
    "    # get the mode of the validation dataset\n",
    "    acc_validate = validate.language.value_counts(normalize=True)[0]\n",
    "    # create a dataframe to store the metrics\n",
    "    metric_df = pd.DataFrame(data=[\n",
    "        {\n",
    "            # add the model metrics to the metrics_df\n",
    "            'model' : 'baseline',\n",
    "            'accuracy' : accuracy,\n",
    "            'acc-validate' : acc_validate,\n",
    "            'difference' : acc_validate - accuracy,\n",
    "        }\n",
    "    ])\n",
    "    # return the baseline metrics\n",
    "    return metric_df"
   ]
  },
  {
   "cell_type": "code",
   "execution_count": 13,
   "id": "781f24b4",
   "metadata": {},
   "outputs": [],
   "source": [
    "metric_df = get_model_baseline(train, validate)"
   ]
  },
  {
   "cell_type": "code",
   "execution_count": 14,
   "id": "0c08ffc3",
   "metadata": {},
   "outputs": [
    {
     "data": {
      "text/html": [
       "<div>\n",
       "<style scoped>\n",
       "    .dataframe tbody tr th:only-of-type {\n",
       "        vertical-align: middle;\n",
       "    }\n",
       "\n",
       "    .dataframe tbody tr th {\n",
       "        vertical-align: top;\n",
       "    }\n",
       "\n",
       "    .dataframe thead th {\n",
       "        text-align: right;\n",
       "    }\n",
       "</style>\n",
       "<table border=\"1\" class=\"dataframe\">\n",
       "  <thead>\n",
       "    <tr style=\"text-align: right;\">\n",
       "      <th></th>\n",
       "      <th>model</th>\n",
       "      <th>accuracy</th>\n",
       "      <th>acc-validate</th>\n",
       "      <th>difference</th>\n",
       "    </tr>\n",
       "  </thead>\n",
       "  <tbody>\n",
       "    <tr>\n",
       "      <th>0</th>\n",
       "      <td>baseline</td>\n",
       "      <td>0.598854</td>\n",
       "      <td>0.6</td>\n",
       "      <td>0.001146</td>\n",
       "    </tr>\n",
       "  </tbody>\n",
       "</table>\n",
       "</div>"
      ],
      "text/plain": [
       "      model  accuracy  acc-validate  difference\n",
       "0  baseline  0.598854           0.6    0.001146"
      ]
     },
     "execution_count": 14,
     "metadata": {},
     "output_type": "execute_result"
    }
   ],
   "source": [
    "metric_df"
   ]
  },
  {
   "cell_type": "markdown",
   "id": "c2b40a91",
   "metadata": {},
   "source": [
    "## The baseline is 'Python' with an accuacy of 60%"
   ]
  },
  {
   "cell_type": "markdown",
   "id": "2eb855cb",
   "metadata": {},
   "source": [
    "# Modeling"
   ]
  },
  {
   "cell_type": "markdown",
   "id": "10c89cf0",
   "metadata": {},
   "source": [
    "## CountVectorizer models"
   ]
  },
  {
   "cell_type": "code",
   "execution_count": 13,
   "id": "a66abe45",
   "metadata": {},
   "outputs": [
    {
     "data": {
      "text/plain": [
       "0.8681948424068768"
      ]
     },
     "execution_count": 13,
     "metadata": {},
     "output_type": "execute_result"
    }
   ],
   "source": [
    "# make a Count Vectorizer object\n",
    "cv = CountVectorizer()\n",
    "# use the thing\n",
    "X_bow = cv.fit_transform(X_train)\n",
    "tree = DecisionTreeClassifier(max_depth=3)\n",
    "tree.fit(X_bow, y_train)\n",
    "tree.score(X_bow, y_train)"
   ]
  },
  {
   "cell_type": "code",
   "execution_count": null,
   "id": "57f75ee1",
   "metadata": {},
   "outputs": [],
   "source": []
  },
  {
   "cell_type": "code",
   "execution_count": 14,
   "id": "5afa67cb",
   "metadata": {},
   "outputs": [],
   "source": [
    "# bag_of_words_cv"
   ]
  },
  {
   "cell_type": "code",
   "execution_count": 15,
   "id": "ec167897",
   "metadata": {},
   "outputs": [],
   "source": [
    "# make a Tfidf Vectorizer object\n",
    "tfidf = TfidfVectorizer()\n",
    "# use the thing\n",
    "bag_of_words_tfidf = tfidf.fit_transform(X_train)"
   ]
  },
  {
   "cell_type": "code",
   "execution_count": null,
   "id": "653d8caa",
   "metadata": {},
   "outputs": [],
   "source": []
  },
  {
   "cell_type": "code",
   "execution_count": 16,
   "id": "ccbe7a0a",
   "metadata": {},
   "outputs": [],
   "source": [
    "cv = CountVectorizer(ngram_range=(1, 3))\n",
    "bag_of_grams = cv.fit_transform(X_train)"
   ]
  },
  {
   "cell_type": "code",
   "execution_count": 17,
   "id": "726299d1",
   "metadata": {},
   "outputs": [],
   "source": [
    "tfidf = CountVectorizer(ngram_range=(2, 3))\n",
    "bag_of_grams = tfidf.fit_transform(X_train)"
   ]
  },
  {
   "cell_type": "code",
   "execution_count": null,
   "id": "7e132792",
   "metadata": {},
   "outputs": [],
   "source": []
  },
  {
   "cell_type": "code",
   "execution_count": null,
   "id": "41012b88",
   "metadata": {},
   "outputs": [],
   "source": []
  },
  {
   "cell_type": "code",
   "execution_count": null,
   "id": "51c8de79",
   "metadata": {},
   "outputs": [],
   "source": []
  },
  {
   "cell_type": "code",
   "execution_count": 18,
   "id": "4c77352d",
   "metadata": {},
   "outputs": [],
   "source": [
    "for i in range(1,4):\n",
    "    for j in range(3,8):\n",
    "        cv = CountVectorizer(ngram_range=(i, i))\n",
    "        X_bow = cv.fit_transform(X_train)\n",
    "        X_val_bow = cv.transform(X_validate)\n",
    "        tree = DecisionTreeClassifier(max_depth=j)\n",
    "        tree.fit(X_bow, y_train)\n",
    "        accuracy = tree.score(X_bow, y_train)\n",
    "        acc_validate = tree.score(X_val_bow, y_validate)\n",
    "        \n",
    "        metric_df = metric_df.append(\n",
    "            {\n",
    "                'model' : f'decistion_tree-cv_{i}gram_{j}depth',\n",
    "                'accuracy' : accuracy,\n",
    "                'acc-validate' : acc_validate,\n",
    "                'difference' : acc_validate - accuracy,\n",
    "            }, ignore_index=True\n",
    "        )"
   ]
  },
  {
   "cell_type": "code",
   "execution_count": 19,
   "id": "cc24f7ba",
   "metadata": {
    "scrolled": true
   },
   "outputs": [
    {
     "data": {
      "text/html": [
       "<div>\n",
       "<style scoped>\n",
       "    .dataframe tbody tr th:only-of-type {\n",
       "        vertical-align: middle;\n",
       "    }\n",
       "\n",
       "    .dataframe tbody tr th {\n",
       "        vertical-align: top;\n",
       "    }\n",
       "\n",
       "    .dataframe thead th {\n",
       "        text-align: right;\n",
       "    }\n",
       "</style>\n",
       "<table border=\"1\" class=\"dataframe\">\n",
       "  <thead>\n",
       "    <tr style=\"text-align: right;\">\n",
       "      <th></th>\n",
       "      <th>model</th>\n",
       "      <th>accuracy</th>\n",
       "      <th>acc-validate</th>\n",
       "      <th>difference</th>\n",
       "    </tr>\n",
       "  </thead>\n",
       "  <tbody>\n",
       "    <tr>\n",
       "      <th>0</th>\n",
       "      <td>baseline</td>\n",
       "      <td>0.598854</td>\n",
       "      <td>0.60</td>\n",
       "      <td>0.001146</td>\n",
       "    </tr>\n",
       "    <tr>\n",
       "      <th>1</th>\n",
       "      <td>decistion_tree-cv_1gram_3depth</td>\n",
       "      <td>0.868195</td>\n",
       "      <td>0.90</td>\n",
       "      <td>0.031805</td>\n",
       "    </tr>\n",
       "    <tr>\n",
       "      <th>2</th>\n",
       "      <td>decistion_tree-cv_1gram_4depth</td>\n",
       "      <td>0.882521</td>\n",
       "      <td>0.90</td>\n",
       "      <td>0.017479</td>\n",
       "    </tr>\n",
       "    <tr>\n",
       "      <th>3</th>\n",
       "      <td>decistion_tree-cv_1gram_5depth</td>\n",
       "      <td>0.914040</td>\n",
       "      <td>0.88</td>\n",
       "      <td>-0.034040</td>\n",
       "    </tr>\n",
       "    <tr>\n",
       "      <th>4</th>\n",
       "      <td>decistion_tree-cv_1gram_6depth</td>\n",
       "      <td>0.936963</td>\n",
       "      <td>0.88</td>\n",
       "      <td>-0.056963</td>\n",
       "    </tr>\n",
       "    <tr>\n",
       "      <th>5</th>\n",
       "      <td>decistion_tree-cv_1gram_7depth</td>\n",
       "      <td>0.954155</td>\n",
       "      <td>0.90</td>\n",
       "      <td>-0.054155</td>\n",
       "    </tr>\n",
       "    <tr>\n",
       "      <th>6</th>\n",
       "      <td>decistion_tree-cv_2gram_3depth</td>\n",
       "      <td>0.805158</td>\n",
       "      <td>0.74</td>\n",
       "      <td>-0.065158</td>\n",
       "    </tr>\n",
       "    <tr>\n",
       "      <th>7</th>\n",
       "      <td>decistion_tree-cv_2gram_4depth</td>\n",
       "      <td>0.833811</td>\n",
       "      <td>0.76</td>\n",
       "      <td>-0.073811</td>\n",
       "    </tr>\n",
       "    <tr>\n",
       "      <th>8</th>\n",
       "      <td>decistion_tree-cv_2gram_5depth</td>\n",
       "      <td>0.853868</td>\n",
       "      <td>0.77</td>\n",
       "      <td>-0.083868</td>\n",
       "    </tr>\n",
       "    <tr>\n",
       "      <th>9</th>\n",
       "      <td>decistion_tree-cv_2gram_6depth</td>\n",
       "      <td>0.868195</td>\n",
       "      <td>0.78</td>\n",
       "      <td>-0.088195</td>\n",
       "    </tr>\n",
       "    <tr>\n",
       "      <th>10</th>\n",
       "      <td>decistion_tree-cv_2gram_7depth</td>\n",
       "      <td>0.882521</td>\n",
       "      <td>0.78</td>\n",
       "      <td>-0.102521</td>\n",
       "    </tr>\n",
       "    <tr>\n",
       "      <th>11</th>\n",
       "      <td>decistion_tree-cv_3gram_3depth</td>\n",
       "      <td>0.624642</td>\n",
       "      <td>0.56</td>\n",
       "      <td>-0.064642</td>\n",
       "    </tr>\n",
       "    <tr>\n",
       "      <th>12</th>\n",
       "      <td>decistion_tree-cv_3gram_4depth</td>\n",
       "      <td>0.653295</td>\n",
       "      <td>0.59</td>\n",
       "      <td>-0.063295</td>\n",
       "    </tr>\n",
       "    <tr>\n",
       "      <th>13</th>\n",
       "      <td>decistion_tree-cv_3gram_5depth</td>\n",
       "      <td>0.679083</td>\n",
       "      <td>0.63</td>\n",
       "      <td>-0.049083</td>\n",
       "    </tr>\n",
       "    <tr>\n",
       "      <th>14</th>\n",
       "      <td>decistion_tree-cv_3gram_6depth</td>\n",
       "      <td>0.702006</td>\n",
       "      <td>0.65</td>\n",
       "      <td>-0.052006</td>\n",
       "    </tr>\n",
       "    <tr>\n",
       "      <th>15</th>\n",
       "      <td>decistion_tree-cv_3gram_7depth</td>\n",
       "      <td>0.719198</td>\n",
       "      <td>0.65</td>\n",
       "      <td>-0.069198</td>\n",
       "    </tr>\n",
       "  </tbody>\n",
       "</table>\n",
       "</div>"
      ],
      "text/plain": [
       "                             model  accuracy  acc-validate  difference\n",
       "0                         baseline  0.598854          0.60    0.001146\n",
       "1   decistion_tree-cv_1gram_3depth  0.868195          0.90    0.031805\n",
       "2   decistion_tree-cv_1gram_4depth  0.882521          0.90    0.017479\n",
       "3   decistion_tree-cv_1gram_5depth  0.914040          0.88   -0.034040\n",
       "4   decistion_tree-cv_1gram_6depth  0.936963          0.88   -0.056963\n",
       "5   decistion_tree-cv_1gram_7depth  0.954155          0.90   -0.054155\n",
       "6   decistion_tree-cv_2gram_3depth  0.805158          0.74   -0.065158\n",
       "7   decistion_tree-cv_2gram_4depth  0.833811          0.76   -0.073811\n",
       "8   decistion_tree-cv_2gram_5depth  0.853868          0.77   -0.083868\n",
       "9   decistion_tree-cv_2gram_6depth  0.868195          0.78   -0.088195\n",
       "10  decistion_tree-cv_2gram_7depth  0.882521          0.78   -0.102521\n",
       "11  decistion_tree-cv_3gram_3depth  0.624642          0.56   -0.064642\n",
       "12  decistion_tree-cv_3gram_4depth  0.653295          0.59   -0.063295\n",
       "13  decistion_tree-cv_3gram_5depth  0.679083          0.63   -0.049083\n",
       "14  decistion_tree-cv_3gram_6depth  0.702006          0.65   -0.052006\n",
       "15  decistion_tree-cv_3gram_7depth  0.719198          0.65   -0.069198"
      ]
     },
     "execution_count": 19,
     "metadata": {},
     "output_type": "execute_result"
    }
   ],
   "source": [
    "metric_df"
   ]
  },
  {
   "cell_type": "code",
   "execution_count": 20,
   "id": "39610009",
   "metadata": {},
   "outputs": [],
   "source": [
    "for i in range(1,4):\n",
    "    for j in range(3,8):\n",
    "        cv = CountVectorizer(ngram_range=(i, i))\n",
    "        X_bow = cv.fit_transform(X_train)\n",
    "        X_val_bow = cv.transform(X_validate)\n",
    "        tree = RandomForestClassifier(max_depth=j)\n",
    "        tree.fit(X_bow, y_train)\n",
    "        accuracy = tree.score(X_bow, y_train)\n",
    "        acc_validate = tree.score(X_val_bow, y_validate)\n",
    "        \n",
    "        metric_df = metric_df.append(\n",
    "            {\n",
    "                'model' : f'random_forest-cv_{i}gram_{j}depth',\n",
    "                'accuracy' : accuracy,\n",
    "                'acc-validate' : acc_validate,\n",
    "                'difference' : acc_validate - accuracy,\n",
    "            }, ignore_index=True\n",
    "        )"
   ]
  },
  {
   "cell_type": "code",
   "execution_count": 21,
   "id": "8f2b9457",
   "metadata": {},
   "outputs": [],
   "source": [
    "for i in range(1,4):\n",
    "    for j in range(3,8):\n",
    "        cv = CountVectorizer(ngram_range=(i, i))\n",
    "        X_bow = cv.fit_transform(X_train)\n",
    "        X_val_bow = cv.transform(X_validate)\n",
    "        model = KNeighborsClassifier(n_neighbors=j)\n",
    "        model.fit(X_bow, y_train)\n",
    "        accuracy = model.score(X_bow, y_train)\n",
    "        acc_validate = model.score(X_val_bow, y_validate)\n",
    "        \n",
    "        metric_df = metric_df.append(\n",
    "            {\n",
    "                'model' : f'k_nearest-cv_{i}gram_{j}neighbors',\n",
    "                'accuracy' : accuracy,\n",
    "                'acc-validate' : acc_validate,\n",
    "                'difference' : acc_validate - accuracy,\n",
    "            }, ignore_index=True\n",
    "        )"
   ]
  },
  {
   "cell_type": "code",
   "execution_count": 22,
   "id": "6fc922e8",
   "metadata": {},
   "outputs": [],
   "source": [
    "for i in range(1,4):\n",
    "    cv = CountVectorizer(ngram_range=(i, i))\n",
    "    X_bow = cv.fit_transform(X_train)\n",
    "    X_val_bow = cv.transform(X_validate)\n",
    "    model = LogisticRegression()\n",
    "    model.fit(X_bow, y_train)\n",
    "    accuracy = model.score(X_bow, y_train)\n",
    "    acc_validate = model.score(X_val_bow, y_validate)\n",
    "\n",
    "    metric_df = metric_df.append(\n",
    "        {\n",
    "            'model' : f'logistic_regress-cv_{i}gram',\n",
    "            'accuracy' : accuracy,\n",
    "            'acc-validate' : acc_validate,\n",
    "            'difference' : acc_validate - accuracy,\n",
    "        }, ignore_index=True\n",
    "    )"
   ]
  },
  {
   "cell_type": "markdown",
   "id": "811b5abf",
   "metadata": {},
   "source": [
    "# TfidfVectorizer Models"
   ]
  },
  {
   "cell_type": "code",
   "execution_count": 23,
   "id": "5ea866a6",
   "metadata": {},
   "outputs": [],
   "source": [
    "for i in range(1,4):\n",
    "    for j in range(3,8):\n",
    "        tfidf = TfidfVectorizer(ngram_range=(i, i))\n",
    "        X_bow = tfidf.fit_transform(X_train)\n",
    "        X_val_bow = tfidf.transform(X_validate)\n",
    "        tree = DecisionTreeClassifier(max_depth=j)\n",
    "        tree.fit(X_bow, y_train)\n",
    "        accuracy = tree.score(X_bow, y_train)\n",
    "        acc_validate = tree.score(X_val_bow, y_validate)\n",
    "        \n",
    "        metric_df = metric_df.append(\n",
    "            {\n",
    "                'model' : f'decistion_tree-tfidf_{i}gram_{j}depth',\n",
    "                'accuracy' : accuracy,\n",
    "                'acc-validate' : acc_validate,\n",
    "                'difference' : acc_validate - accuracy,\n",
    "            }, ignore_index=True\n",
    "        )"
   ]
  },
  {
   "cell_type": "code",
   "execution_count": 24,
   "id": "d0a62af7",
   "metadata": {},
   "outputs": [],
   "source": [
    "for i in range(1,4):\n",
    "    for j in range(3,8):\n",
    "        tfidf = TfidfVectorizer(ngram_range=(i, i))\n",
    "        X_bow = tfidf.fit_transform(X_train)\n",
    "        X_val_bow = tfidf.transform(X_validate)\n",
    "        tree = RandomForestClassifier(max_depth=j)\n",
    "        tree.fit(X_bow, y_train)\n",
    "        accuracy = tree.score(X_bow, y_train)\n",
    "        acc_validate = tree.score(X_val_bow, y_validate)\n",
    "        \n",
    "        metric_df = metric_df.append(\n",
    "            {\n",
    "                'model' : f'random_forest-tfidf_{i}gram_{j}depth',\n",
    "                'accuracy' : accuracy,\n",
    "                'acc-validate' : acc_validate,\n",
    "                'difference' : acc_validate - accuracy,\n",
    "            }, ignore_index=True\n",
    "        )"
   ]
  },
  {
   "cell_type": "code",
   "execution_count": 25,
   "id": "9484af4b",
   "metadata": {},
   "outputs": [],
   "source": [
    "for i in range(1,4):\n",
    "    for j in range(3,8):\n",
    "        tfidf = TfidfVectorizer(ngram_range=(i, i))\n",
    "        X_bow = tfidf.fit_transform(X_train)\n",
    "        X_val_bow = tfidf.transform(X_validate)\n",
    "        model = KNeighborsClassifier(n_neighbors=j)\n",
    "        model.fit(X_bow, y_train)\n",
    "        accuracy = model.score(X_bow, y_train)\n",
    "        acc_validate = model.score(X_val_bow, y_validate)\n",
    "        \n",
    "        metric_df = metric_df.append(\n",
    "            {\n",
    "                'model' : f'k_nearest-tfidf_{i}gram_{j}neighbors',\n",
    "                'accuracy' : accuracy,\n",
    "                'acc-validate' : acc_validate,\n",
    "                'difference' : acc_validate - accuracy,\n",
    "            }, ignore_index=True\n",
    "        )"
   ]
  },
  {
   "cell_type": "code",
   "execution_count": 26,
   "id": "fd70490d",
   "metadata": {},
   "outputs": [],
   "source": [
    "for i in range(1,4):\n",
    "    tfidf = TfidfVectorizer(ngram_range=(i, i))\n",
    "    X_bow = tfidf.fit_transform(X_train)\n",
    "    X_val_bow = tfidf.transform(X_validate)\n",
    "    model = LogisticRegression()\n",
    "    model.fit(X_bow, y_train)\n",
    "    accuracy = model.score(X_bow, y_train)\n",
    "    acc_validate = model.score(X_val_bow, y_validate)\n",
    "\n",
    "    metric_df = metric_df.append(\n",
    "        {\n",
    "            'model' : f'logistic_regress-tfidf_{i}gram',\n",
    "            'accuracy' : accuracy,\n",
    "            'acc-validate' : acc_validate,\n",
    "            'difference' : acc_validate - accuracy,\n",
    "        }, ignore_index=True\n",
    "    )"
   ]
  },
  {
   "cell_type": "code",
   "execution_count": 27,
   "id": "a5c8bfb1",
   "metadata": {},
   "outputs": [
    {
     "data": {
      "text/html": [
       "<div>\n",
       "<style scoped>\n",
       "    .dataframe tbody tr th:only-of-type {\n",
       "        vertical-align: middle;\n",
       "    }\n",
       "\n",
       "    .dataframe tbody tr th {\n",
       "        vertical-align: top;\n",
       "    }\n",
       "\n",
       "    .dataframe thead th {\n",
       "        text-align: right;\n",
       "    }\n",
       "</style>\n",
       "<table border=\"1\" class=\"dataframe\">\n",
       "  <thead>\n",
       "    <tr style=\"text-align: right;\">\n",
       "      <th></th>\n",
       "      <th>model</th>\n",
       "      <th>accuracy</th>\n",
       "      <th>acc-validate</th>\n",
       "      <th>difference</th>\n",
       "    </tr>\n",
       "  </thead>\n",
       "  <tbody>\n",
       "    <tr>\n",
       "      <th>0</th>\n",
       "      <td>baseline</td>\n",
       "      <td>0.598854</td>\n",
       "      <td>0.60</td>\n",
       "      <td>0.001146</td>\n",
       "    </tr>\n",
       "    <tr>\n",
       "      <th>1</th>\n",
       "      <td>decistion_tree-cv_1gram_3depth</td>\n",
       "      <td>0.868195</td>\n",
       "      <td>0.90</td>\n",
       "      <td>0.031805</td>\n",
       "    </tr>\n",
       "    <tr>\n",
       "      <th>2</th>\n",
       "      <td>decistion_tree-cv_1gram_4depth</td>\n",
       "      <td>0.882521</td>\n",
       "      <td>0.90</td>\n",
       "      <td>0.017479</td>\n",
       "    </tr>\n",
       "    <tr>\n",
       "      <th>3</th>\n",
       "      <td>decistion_tree-cv_1gram_5depth</td>\n",
       "      <td>0.914040</td>\n",
       "      <td>0.88</td>\n",
       "      <td>-0.034040</td>\n",
       "    </tr>\n",
       "    <tr>\n",
       "      <th>4</th>\n",
       "      <td>decistion_tree-cv_1gram_6depth</td>\n",
       "      <td>0.936963</td>\n",
       "      <td>0.88</td>\n",
       "      <td>-0.056963</td>\n",
       "    </tr>\n",
       "    <tr>\n",
       "      <th>...</th>\n",
       "      <td>...</td>\n",
       "      <td>...</td>\n",
       "      <td>...</td>\n",
       "      <td>...</td>\n",
       "    </tr>\n",
       "    <tr>\n",
       "      <th>92</th>\n",
       "      <td>k_nearest-tfidf_3gram_6neighbors</td>\n",
       "      <td>0.401146</td>\n",
       "      <td>0.40</td>\n",
       "      <td>-0.001146</td>\n",
       "    </tr>\n",
       "    <tr>\n",
       "      <th>93</th>\n",
       "      <td>k_nearest-tfidf_3gram_7neighbors</td>\n",
       "      <td>0.401146</td>\n",
       "      <td>0.40</td>\n",
       "      <td>-0.001146</td>\n",
       "    </tr>\n",
       "    <tr>\n",
       "      <th>94</th>\n",
       "      <td>logistic_regress-tfidf_1gram</td>\n",
       "      <td>0.954155</td>\n",
       "      <td>0.79</td>\n",
       "      <td>-0.164155</td>\n",
       "    </tr>\n",
       "    <tr>\n",
       "      <th>95</th>\n",
       "      <td>logistic_regress-tfidf_2gram</td>\n",
       "      <td>0.971347</td>\n",
       "      <td>0.60</td>\n",
       "      <td>-0.371347</td>\n",
       "    </tr>\n",
       "    <tr>\n",
       "      <th>96</th>\n",
       "      <td>logistic_regress-tfidf_3gram</td>\n",
       "      <td>0.974212</td>\n",
       "      <td>0.60</td>\n",
       "      <td>-0.374212</td>\n",
       "    </tr>\n",
       "  </tbody>\n",
       "</table>\n",
       "<p>97 rows × 4 columns</p>\n",
       "</div>"
      ],
      "text/plain": [
       "                               model  accuracy  acc-validate  difference\n",
       "0                           baseline  0.598854          0.60    0.001146\n",
       "1     decistion_tree-cv_1gram_3depth  0.868195          0.90    0.031805\n",
       "2     decistion_tree-cv_1gram_4depth  0.882521          0.90    0.017479\n",
       "3     decistion_tree-cv_1gram_5depth  0.914040          0.88   -0.034040\n",
       "4     decistion_tree-cv_1gram_6depth  0.936963          0.88   -0.056963\n",
       "..                               ...       ...           ...         ...\n",
       "92  k_nearest-tfidf_3gram_6neighbors  0.401146          0.40   -0.001146\n",
       "93  k_nearest-tfidf_3gram_7neighbors  0.401146          0.40   -0.001146\n",
       "94      logistic_regress-tfidf_1gram  0.954155          0.79   -0.164155\n",
       "95      logistic_regress-tfidf_2gram  0.971347          0.60   -0.371347\n",
       "96      logistic_regress-tfidf_3gram  0.974212          0.60   -0.374212\n",
       "\n",
       "[97 rows x 4 columns]"
      ]
     },
     "execution_count": 27,
     "metadata": {},
     "output_type": "execute_result"
    }
   ],
   "source": [
    "metric_df"
   ]
  },
  {
   "cell_type": "code",
   "execution_count": 28,
   "id": "c364bf8a",
   "metadata": {},
   "outputs": [
    {
     "data": {
      "text/html": [
       "<div>\n",
       "<style scoped>\n",
       "    .dataframe tbody tr th:only-of-type {\n",
       "        vertical-align: middle;\n",
       "    }\n",
       "\n",
       "    .dataframe tbody tr th {\n",
       "        vertical-align: top;\n",
       "    }\n",
       "\n",
       "    .dataframe thead th {\n",
       "        text-align: right;\n",
       "    }\n",
       "</style>\n",
       "<table border=\"1\" class=\"dataframe\">\n",
       "  <thead>\n",
       "    <tr style=\"text-align: right;\">\n",
       "      <th></th>\n",
       "      <th>model</th>\n",
       "      <th>accuracy</th>\n",
       "      <th>acc-validate</th>\n",
       "      <th>difference</th>\n",
       "    </tr>\n",
       "  </thead>\n",
       "  <tbody>\n",
       "    <tr>\n",
       "      <th>50</th>\n",
       "      <td>decistion_tree-tfidf_1gram_4depth</td>\n",
       "      <td>0.899713</td>\n",
       "      <td>0.91</td>\n",
       "      <td>0.010287</td>\n",
       "    </tr>\n",
       "    <tr>\n",
       "      <th>52</th>\n",
       "      <td>decistion_tree-tfidf_1gram_6depth</td>\n",
       "      <td>0.939828</td>\n",
       "      <td>0.90</td>\n",
       "      <td>-0.039828</td>\n",
       "    </tr>\n",
       "    <tr>\n",
       "      <th>2</th>\n",
       "      <td>decistion_tree-cv_1gram_4depth</td>\n",
       "      <td>0.882521</td>\n",
       "      <td>0.90</td>\n",
       "      <td>0.017479</td>\n",
       "    </tr>\n",
       "    <tr>\n",
       "      <th>5</th>\n",
       "      <td>decistion_tree-cv_1gram_7depth</td>\n",
       "      <td>0.954155</td>\n",
       "      <td>0.90</td>\n",
       "      <td>-0.054155</td>\n",
       "    </tr>\n",
       "    <tr>\n",
       "      <th>53</th>\n",
       "      <td>decistion_tree-tfidf_1gram_7depth</td>\n",
       "      <td>0.957020</td>\n",
       "      <td>0.90</td>\n",
       "      <td>-0.057020</td>\n",
       "    </tr>\n",
       "    <tr>\n",
       "      <th>49</th>\n",
       "      <td>decistion_tree-tfidf_1gram_3depth</td>\n",
       "      <td>0.868195</td>\n",
       "      <td>0.90</td>\n",
       "      <td>0.031805</td>\n",
       "    </tr>\n",
       "    <tr>\n",
       "      <th>1</th>\n",
       "      <td>decistion_tree-cv_1gram_3depth</td>\n",
       "      <td>0.868195</td>\n",
       "      <td>0.90</td>\n",
       "      <td>0.031805</td>\n",
       "    </tr>\n",
       "    <tr>\n",
       "      <th>51</th>\n",
       "      <td>decistion_tree-tfidf_1gram_5depth</td>\n",
       "      <td>0.919771</td>\n",
       "      <td>0.88</td>\n",
       "      <td>-0.039771</td>\n",
       "    </tr>\n",
       "    <tr>\n",
       "      <th>3</th>\n",
       "      <td>decistion_tree-cv_1gram_5depth</td>\n",
       "      <td>0.914040</td>\n",
       "      <td>0.88</td>\n",
       "      <td>-0.034040</td>\n",
       "    </tr>\n",
       "    <tr>\n",
       "      <th>4</th>\n",
       "      <td>decistion_tree-cv_1gram_6depth</td>\n",
       "      <td>0.936963</td>\n",
       "      <td>0.88</td>\n",
       "      <td>-0.056963</td>\n",
       "    </tr>\n",
       "    <tr>\n",
       "      <th>79</th>\n",
       "      <td>k_nearest-tfidf_1gram_3neighbors</td>\n",
       "      <td>0.865330</td>\n",
       "      <td>0.79</td>\n",
       "      <td>-0.075330</td>\n",
       "    </tr>\n",
       "    <tr>\n",
       "      <th>83</th>\n",
       "      <td>k_nearest-tfidf_1gram_7neighbors</td>\n",
       "      <td>0.808023</td>\n",
       "      <td>0.79</td>\n",
       "      <td>-0.018023</td>\n",
       "    </tr>\n",
       "    <tr>\n",
       "      <th>46</th>\n",
       "      <td>logistic_regress-cv_1gram</td>\n",
       "      <td>0.997135</td>\n",
       "      <td>0.79</td>\n",
       "      <td>-0.207135</td>\n",
       "    </tr>\n",
       "    <tr>\n",
       "      <th>94</th>\n",
       "      <td>logistic_regress-tfidf_1gram</td>\n",
       "      <td>0.954155</td>\n",
       "      <td>0.79</td>\n",
       "      <td>-0.164155</td>\n",
       "    </tr>\n",
       "    <tr>\n",
       "      <th>57</th>\n",
       "      <td>decistion_tree-tfidf_2gram_6depth</td>\n",
       "      <td>0.885387</td>\n",
       "      <td>0.78</td>\n",
       "      <td>-0.105387</td>\n",
       "    </tr>\n",
       "  </tbody>\n",
       "</table>\n",
       "</div>"
      ],
      "text/plain": [
       "                                model  accuracy  acc-validate  difference\n",
       "50  decistion_tree-tfidf_1gram_4depth  0.899713          0.91    0.010287\n",
       "52  decistion_tree-tfidf_1gram_6depth  0.939828          0.90   -0.039828\n",
       "2      decistion_tree-cv_1gram_4depth  0.882521          0.90    0.017479\n",
       "5      decistion_tree-cv_1gram_7depth  0.954155          0.90   -0.054155\n",
       "53  decistion_tree-tfidf_1gram_7depth  0.957020          0.90   -0.057020\n",
       "49  decistion_tree-tfidf_1gram_3depth  0.868195          0.90    0.031805\n",
       "1      decistion_tree-cv_1gram_3depth  0.868195          0.90    0.031805\n",
       "51  decistion_tree-tfidf_1gram_5depth  0.919771          0.88   -0.039771\n",
       "3      decistion_tree-cv_1gram_5depth  0.914040          0.88   -0.034040\n",
       "4      decistion_tree-cv_1gram_6depth  0.936963          0.88   -0.056963\n",
       "79   k_nearest-tfidf_1gram_3neighbors  0.865330          0.79   -0.075330\n",
       "83   k_nearest-tfidf_1gram_7neighbors  0.808023          0.79   -0.018023\n",
       "46          logistic_regress-cv_1gram  0.997135          0.79   -0.207135\n",
       "94       logistic_regress-tfidf_1gram  0.954155          0.79   -0.164155\n",
       "57  decistion_tree-tfidf_2gram_6depth  0.885387          0.78   -0.105387"
      ]
     },
     "execution_count": 28,
     "metadata": {},
     "output_type": "execute_result"
    }
   ],
   "source": [
    "metric_df.sort_values('acc-validate', ascending=False).head(15)"
   ]
  },
  {
   "cell_type": "markdown",
   "id": "16f396df",
   "metadata": {},
   "source": [
    "### Ran 96 models"
   ]
  },
  {
   "cell_type": "markdown",
   "id": "22004c32",
   "metadata": {},
   "source": [
    "### decistion_tree-tfidf_1gram_4depth is our best model with \n",
    "- training-accuracy: 0.899713\t\n",
    "- validation-accuracy: 0.91\t\n",
    "- accuracy difference: 0.010287"
   ]
  },
  {
   "cell_type": "markdown",
   "id": "2767efa0",
   "metadata": {},
   "source": [
    "- decistion_tree-tfidf_1gram_4depth\t0.899713\t0.91\t0.010287\n",
    "- decistion_tree-tfidf_1gram_6depth\t0.939828\t0.90\t-0.039828\n",
    "- decistion_tree-cv_1gram_4depth\t0.882521\t0.90\t0.017479"
   ]
  },
  {
   "cell_type": "code",
   "execution_count": 83,
   "id": "fcfb4161",
   "metadata": {},
   "outputs": [],
   "source": [
    "def get_model_tree_tfidf_1gram_4depth(X_train, X_validate, y_train, y_validate):\n",
    "    '''\n",
    "    This will display metrics for a Descistion Tree classifier model using TfidfVectorizer\n",
    "    with unigrams, and a max depth of 4.\n",
    "    '''\n",
    "    # create the TfidfVectorizer object with 1grams\n",
    "    tfidf = TfidfVectorizer(ngram_range=(1, 1))\n",
    "    # fit the tfid object, and transform the x_train dataset\n",
    "    X_bow = tfidf.fit_transform(X_train)\n",
    "    # transfrom the x_validate dataset\n",
    "    X_val_bow = tfidf.transform(X_validate)\n",
    "    # create a decision tree model with max depth 4\n",
    "    tree = DecisionTreeClassifier(max_depth=4)\n",
    "    # fit the decision tree on the training data\n",
    "    tree.fit(X_bow, y_train)\n",
    "    # get the accuracy score for the training data\n",
    "    accuracy = tree.score(X_bow, y_train)\n",
    "    # get the accuracy score for the validation data\n",
    "    acc_validate = tree.score(X_val_bow, y_validate)\n",
    "    # display the model metrics\n",
    "    # display the model name and perameters\n",
    "    print('Model : Decistion_Tree : TfidfVectorizer : 1gram : 4_max_depth')\n",
    "    # display the accuracy on the training data\n",
    "    print(f'Train accuracy : {accuracy:.4f}'),\n",
    "    # display the accuracy on the validation data\n",
    "    print(f'Validation accuracy : {acc_validate:.4f}'),\n",
    "    # display the accuracy difference\n",
    "    print(f'Difference : {acc_validate - accuracy:.4f}')\n",
    "    # return the model for potential use on test data\n",
    "    return tree, tfidf"
   ]
  },
  {
   "cell_type": "code",
   "execution_count": 85,
   "id": "751878c2",
   "metadata": {},
   "outputs": [],
   "source": [
    "def get_model_tree_tfidf_1gram_6depth(X_train, X_validate, y_train, y_validate):\n",
    "    '''\n",
    "    This will display metrics for a Descistion Tree classifier model using TfidfVectorizer\n",
    "    with unigrams, and a max depth of 6.\n",
    "    '''\n",
    "    # create the TfidfVectorizer object with 1grams\n",
    "    tfidf = TfidfVectorizer(ngram_range=(1, 1))\n",
    "    # fit the tfid object, and transform the x_train dataset\n",
    "    X_bow = tfidf.fit_transform(X_train)\n",
    "    # transfrom the x_validate dataset\n",
    "    X_val_bow = tfidf.transform(X_validate)\n",
    "    # create a decision tree model with max depth 6\n",
    "    tree = DecisionTreeClassifier(max_depth=6)\n",
    "    # fit the decision tree on the training data\n",
    "    tree.fit(X_bow, y_train)\n",
    "    # get the accuracy score for the training data\n",
    "    accuracy = tree.score(X_bow, y_train)\n",
    "    # get the accuracy score for the validation data\n",
    "    acc_validate = tree.score(X_val_bow, y_validate)\n",
    "    # display the model metrics\n",
    "    # display the model name and perameters\n",
    "    print('Model : Decistion_Tree : TfidfVectorizer : 1gram : 6_max_depth')\n",
    "    # display the accuracy on the training data\n",
    "    print(f'Train accuracy : {accuracy:.4f}'),\n",
    "    # display the accuracy on the validation data\n",
    "    print(f'Validation accuracy : {acc_validate:.4f}'),\n",
    "    # display the accuracy difference\n",
    "    print(f'Difference : {acc_validate - accuracy:.4f}')\n",
    "    # return the model for potential use on test data\n",
    "    return tree, tfidf"
   ]
  },
  {
   "cell_type": "code",
   "execution_count": 86,
   "id": "088aac75",
   "metadata": {},
   "outputs": [],
   "source": [
    "def get_model__tree_cv_1gram_4depth(X_train, X_validate, y_train, y_validate):\n",
    "    '''\n",
    "    This will display metrics for a Descistion Tree classifier model using CountVectorizer\n",
    "    with unigrams, and a max depth of 4.\n",
    "    '''\n",
    "    # create the CountVectorizer object with 1grams\n",
    "    cv = CountVectorizer(ngram_range=(1, 1))\n",
    "    # fit the tfid object, and transform the x_train dataset\n",
    "    X_bow = cv.fit_transform(X_train)\n",
    "    # transfrom the x_validate dataset\n",
    "    X_val_bow = cv.transform(X_validate)\n",
    "    # create a decision tree model with max depth 4\n",
    "    tree = DecisionTreeClassifier(max_depth=4)\n",
    "    # fit the decision tree on the training data\n",
    "    tree.fit(X_bow, y_train)\n",
    "    # get the accuracy score for the training data\n",
    "    accuracy = tree.score(X_bow, y_train)\n",
    "    # get the accuracy score for the validation data\n",
    "    acc_validate = tree.score(X_val_bow, y_validate)\n",
    "    # display the model metrics\n",
    "    # display the model name and perameters\n",
    "    print('Model : Decistion_Tree : CountVectorizer : 1gram : 4_max_depth')\n",
    "    # display the accuracy on the training data\n",
    "    print(f'train accuracy : {accuracy:.4f}'),\n",
    "    # display the accuracy on the validation data\n",
    "    print(f'validation accuracy : {acc_validate:.4f}'),\n",
    "    # display the accuracy difference\n",
    "    print(f'difference : {acc_validate - accuracy:.4f}')\n",
    "    # return the model for potential use on test data\n",
    "    return tree, cv"
   ]
  },
  {
   "cell_type": "code",
   "execution_count": 87,
   "id": "9439b7c5",
   "metadata": {},
   "outputs": [
    {
     "name": "stdout",
     "output_type": "stream",
     "text": [
      "Model : Decistion_Tree : TfidfVectorizer : 1gram : 4_max_depth\n",
      "Train accuracy : 0.8997\n",
      "Validation accuracy : 0.9000\n",
      "Difference : 0.0003\n"
     ]
    }
   ],
   "source": [
    "dt_t_1_4, tfidf_1 = get_model_tree_tfidf_1gram_4depth(\n",
    "    X_train, X_validate, y_train, y_validate)"
   ]
  },
  {
   "cell_type": "code",
   "execution_count": 88,
   "id": "e707c810",
   "metadata": {},
   "outputs": [
    {
     "name": "stdout",
     "output_type": "stream",
     "text": [
      "Model : Decistion_Tree : TfidfVectorizer : 1gram : 6_max_depth\n",
      "Train accuracy : 0.9427\n",
      "Validation accuracy : 0.9000\n",
      "Difference : -0.0427\n"
     ]
    }
   ],
   "source": [
    "dt_t_1_6, tfidf_1 = get_model_tree_tfidf_1gram_6depth(\n",
    "    X_train, X_validate, y_train, y_validate)"
   ]
  },
  {
   "cell_type": "code",
   "execution_count": 89,
   "id": "aac7204c",
   "metadata": {},
   "outputs": [
    {
     "name": "stdout",
     "output_type": "stream",
     "text": [
      "Model : Decistion_Tree : CountVectorizer : 1gram : 4_max_depth\n",
      "train accuracy : 0.8825\n",
      "validation accuracy : 0.8900\n",
      "difference : 0.0075\n"
     ]
    }
   ],
   "source": [
    "dt_c_1_4, cv_1 = get_model__tree_cv_1gram_4depth(\n",
    "    X_train, X_validate, y_train, y_validate)"
   ]
  },
  {
   "cell_type": "markdown",
   "id": "12fbb6fa",
   "metadata": {},
   "source": [
    "## Test dataset"
   ]
  },
  {
   "cell_type": "code",
   "execution_count": 90,
   "id": "9791bc1f",
   "metadata": {},
   "outputs": [],
   "source": [
    "def get_model_test(X_train, y_train, X_test, y_test, model, vectorizer):\n",
    "    '''\n",
    "    This will use the passed classification model and vectorizer on the test dataset\n",
    "    '''\n",
    "    # use the vectorizer to transfor the test data\n",
    "    X_test_bow = vectorizer.transform(X_test)\n",
    "    # use the model to get an accuracy score on the test data\n",
    "    acc_test = model.score(X_test_bow, y_test)\n",
    "    # display the model metrics\n",
    "    # display the model info\n",
    "    print('Test Dataset')\n",
    "    print('Model : Decistion_Tree : TfidfVectorizer : 1gram : 4_max_depth')\n",
    "    # display the model accuracy score\n",
    "    print(f'Test accuracy : {acc_test:.4f}')"
   ]
  },
  {
   "cell_type": "code",
   "execution_count": 91,
   "id": "9b06d3a0",
   "metadata": {},
   "outputs": [
    {
     "name": "stdout",
     "output_type": "stream",
     "text": [
      "Test Dataset\n",
      "Model : Decistion_Tree : TfidfVectorizer : 1gram : 4_max_depth\n",
      "Test accuracy : 0.7800\n"
     ]
    }
   ],
   "source": [
    "get_model_test(X_train, y_train, X_test, y_test, dt_t_1_4, tfidf_1)"
   ]
  },
  {
   "cell_type": "code",
   "execution_count": 95,
   "id": "038f98ee",
   "metadata": {},
   "outputs": [
    {
     "ename": "ValueError",
     "evalue": "The truth value of a Series is ambiguous. Use a.empty, a.bool(), a.item(), a.any() or a.all().",
     "output_type": "error",
     "traceback": [
      "\u001b[0;31m---------------------------------------------------------------------------\u001b[0m",
      "\u001b[0;31mValueError\u001b[0m                                Traceback (most recent call last)",
      "\u001b[0;32m/var/folders/49/v6sf5vy165dghytk4qv6jfhc0000gn/T/ipykernel_1692/3069196863.py\u001b[0m in \u001b[0;36m<module>\u001b[0;34m\u001b[0m\n\u001b[1;32m      3\u001b[0m \u001b[0mX_test_bow\u001b[0m \u001b[0;34m=\u001b[0m \u001b[0mtfidf_1\u001b[0m\u001b[0;34m.\u001b[0m\u001b[0mtransform\u001b[0m\u001b[0;34m(\u001b[0m\u001b[0mX_test\u001b[0m\u001b[0;34m)\u001b[0m\u001b[0;34m\u001b[0m\u001b[0;34m\u001b[0m\u001b[0m\n\u001b[1;32m      4\u001b[0m     \u001b[0;31m# use the model to get an accuracy score on the test data\u001b[0m\u001b[0;34m\u001b[0m\u001b[0;34m\u001b[0m\u001b[0m\n\u001b[0;32m----> 5\u001b[0;31m \u001b[0mdt_t_1_4\u001b[0m\u001b[0;34m.\u001b[0m\u001b[0mpredict_proba\u001b[0m\u001b[0;34m(\u001b[0m\u001b[0mX_test_bow\u001b[0m\u001b[0;34m,\u001b[0m \u001b[0my_test\u001b[0m\u001b[0;34m)\u001b[0m\u001b[0;34m\u001b[0m\u001b[0;34m\u001b[0m\u001b[0m\n\u001b[0m\u001b[1;32m      6\u001b[0m \u001b[0;34m\u001b[0m\u001b[0m\n",
      "\u001b[0;32m/opt/anaconda3/lib/python3.9/site-packages/sklearn/tree/_classes.py\u001b[0m in \u001b[0;36mpredict_proba\u001b[0;34m(self, X, check_input)\u001b[0m\n\u001b[1;32m    969\u001b[0m         \"\"\"\n\u001b[1;32m    970\u001b[0m         \u001b[0mcheck_is_fitted\u001b[0m\u001b[0;34m(\u001b[0m\u001b[0mself\u001b[0m\u001b[0;34m)\u001b[0m\u001b[0;34m\u001b[0m\u001b[0;34m\u001b[0m\u001b[0m\n\u001b[0;32m--> 971\u001b[0;31m         \u001b[0mX\u001b[0m \u001b[0;34m=\u001b[0m \u001b[0mself\u001b[0m\u001b[0;34m.\u001b[0m\u001b[0m_validate_X_predict\u001b[0m\u001b[0;34m(\u001b[0m\u001b[0mX\u001b[0m\u001b[0;34m,\u001b[0m \u001b[0mcheck_input\u001b[0m\u001b[0;34m)\u001b[0m\u001b[0;34m\u001b[0m\u001b[0;34m\u001b[0m\u001b[0m\n\u001b[0m\u001b[1;32m    972\u001b[0m         \u001b[0mproba\u001b[0m \u001b[0;34m=\u001b[0m \u001b[0mself\u001b[0m\u001b[0;34m.\u001b[0m\u001b[0mtree_\u001b[0m\u001b[0;34m.\u001b[0m\u001b[0mpredict\u001b[0m\u001b[0;34m(\u001b[0m\u001b[0mX\u001b[0m\u001b[0;34m)\u001b[0m\u001b[0;34m\u001b[0m\u001b[0;34m\u001b[0m\u001b[0m\n\u001b[1;32m    973\u001b[0m \u001b[0;34m\u001b[0m\u001b[0m\n",
      "\u001b[0;32m/opt/anaconda3/lib/python3.9/site-packages/sklearn/tree/_classes.py\u001b[0m in \u001b[0;36m_validate_X_predict\u001b[0;34m(self, X, check_input)\u001b[0m\n\u001b[1;32m    430\u001b[0m     \u001b[0;32mdef\u001b[0m \u001b[0m_validate_X_predict\u001b[0m\u001b[0;34m(\u001b[0m\u001b[0mself\u001b[0m\u001b[0;34m,\u001b[0m \u001b[0mX\u001b[0m\u001b[0;34m,\u001b[0m \u001b[0mcheck_input\u001b[0m\u001b[0;34m)\u001b[0m\u001b[0;34m:\u001b[0m\u001b[0;34m\u001b[0m\u001b[0;34m\u001b[0m\u001b[0m\n\u001b[1;32m    431\u001b[0m         \u001b[0;34m\"\"\"Validate the training data on predict (probabilities).\"\"\"\u001b[0m\u001b[0;34m\u001b[0m\u001b[0;34m\u001b[0m\u001b[0m\n\u001b[0;32m--> 432\u001b[0;31m         \u001b[0;32mif\u001b[0m \u001b[0mcheck_input\u001b[0m\u001b[0;34m:\u001b[0m\u001b[0;34m\u001b[0m\u001b[0;34m\u001b[0m\u001b[0m\n\u001b[0m\u001b[1;32m    433\u001b[0m             \u001b[0mX\u001b[0m \u001b[0;34m=\u001b[0m \u001b[0mself\u001b[0m\u001b[0;34m.\u001b[0m\u001b[0m_validate_data\u001b[0m\u001b[0;34m(\u001b[0m\u001b[0mX\u001b[0m\u001b[0;34m,\u001b[0m \u001b[0mdtype\u001b[0m\u001b[0;34m=\u001b[0m\u001b[0mDTYPE\u001b[0m\u001b[0;34m,\u001b[0m \u001b[0maccept_sparse\u001b[0m\u001b[0;34m=\u001b[0m\u001b[0;34m\"csr\"\u001b[0m\u001b[0;34m,\u001b[0m \u001b[0mreset\u001b[0m\u001b[0;34m=\u001b[0m\u001b[0;32mFalse\u001b[0m\u001b[0;34m)\u001b[0m\u001b[0;34m\u001b[0m\u001b[0;34m\u001b[0m\u001b[0m\n\u001b[1;32m    434\u001b[0m             if issparse(X) and (\n",
      "\u001b[0;32m/opt/anaconda3/lib/python3.9/site-packages/pandas/core/generic.py\u001b[0m in \u001b[0;36m__nonzero__\u001b[0;34m(self)\u001b[0m\n\u001b[1;32m   1525\u001b[0m     \u001b[0;34m@\u001b[0m\u001b[0mfinal\u001b[0m\u001b[0;34m\u001b[0m\u001b[0;34m\u001b[0m\u001b[0m\n\u001b[1;32m   1526\u001b[0m     \u001b[0;32mdef\u001b[0m \u001b[0m__nonzero__\u001b[0m\u001b[0;34m(\u001b[0m\u001b[0mself\u001b[0m\u001b[0;34m)\u001b[0m\u001b[0;34m:\u001b[0m\u001b[0;34m\u001b[0m\u001b[0;34m\u001b[0m\u001b[0m\n\u001b[0;32m-> 1527\u001b[0;31m         raise ValueError(\n\u001b[0m\u001b[1;32m   1528\u001b[0m             \u001b[0;34mf\"The truth value of a {type(self).__name__} is ambiguous. \"\u001b[0m\u001b[0;34m\u001b[0m\u001b[0;34m\u001b[0m\u001b[0m\n\u001b[1;32m   1529\u001b[0m             \u001b[0;34m\"Use a.empty, a.bool(), a.item(), a.any() or a.all().\"\u001b[0m\u001b[0;34m\u001b[0m\u001b[0;34m\u001b[0m\u001b[0m\n",
      "\u001b[0;31mValueError\u001b[0m: The truth value of a Series is ambiguous. Use a.empty, a.bool(), a.item(), a.any() or a.all()."
     ]
    }
   ],
   "source": [
    "# def print_model_test_tfifd_1(X_train, y_train, X_test, y_test, model, vectorizor):\n",
    "    # use the vectorizer to transfor the test data\n",
    "X_test_bow = tfidf_1.transform(X_test)\n",
    "    # use the model to get an accuracy score on the test data\n",
    "dt_t_1_4.(X_test_bow, y_test)\n",
    "    "
   ]
  },
  {
   "cell_type": "code",
   "execution_count": null,
   "id": "98c652a3",
   "metadata": {},
   "outputs": [],
   "source": []
  }
 ],
 "metadata": {
  "kernelspec": {
   "display_name": "Python 3 (ipykernel)",
   "language": "python",
   "name": "python3"
  },
  "language_info": {
   "codemirror_mode": {
    "name": "ipython",
    "version": 3
   },
   "file_extension": ".py",
   "mimetype": "text/x-python",
   "name": "python",
   "nbconvert_exporter": "python",
   "pygments_lexer": "ipython3",
   "version": "3.9.13"
  }
 },
 "nbformat": 4,
 "nbformat_minor": 5
}
