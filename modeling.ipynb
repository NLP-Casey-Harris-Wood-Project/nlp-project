{
 "cells": [
  {
   "cell_type": "code",
   "execution_count": 43,
   "id": "aa28a8da",
   "metadata": {},
   "outputs": [],
   "source": [
    "import numpy as np\n",
    "import pandas as pd\n",
    "\n",
    "import wrangle as w\n",
    "\n",
    "from sklearn.feature_extraction.text import CountVectorizer\n",
    "from sklearn.feature_extraction.text import TfidfVectorizer\n",
    "\n",
    "from sklearn.tree import DecisionTreeClassifier\n",
    "from sklearn.ensemble import RandomForestClassifier\n",
    "from sklearn.neighbors import KNeighborsClassifier\n",
    "from sklearn.linear_model import LogisticRegression\n",
    "\n",
    "from sklearn.metrics import accuracy_score, \\\n",
    "    confusion_matrix,\\\n",
    "    classification_report\n",
    "\n",
    "import warnings\n",
    "warnings.filterwarnings(\"ignore\")"
   ]
  },
  {
   "cell_type": "code",
   "execution_count": 2,
   "id": "1b929163",
   "metadata": {},
   "outputs": [],
   "source": [
    "readmes = w.wrangle_github_repositories()"
   ]
  },
  {
   "cell_type": "code",
   "execution_count": 3,
   "id": "40f573e5",
   "metadata": {},
   "outputs": [
    {
     "data": {
      "text/html": [
       "<div>\n",
       "<style scoped>\n",
       "    .dataframe tbody tr th:only-of-type {\n",
       "        vertical-align: middle;\n",
       "    }\n",
       "\n",
       "    .dataframe tbody tr th {\n",
       "        vertical-align: top;\n",
       "    }\n",
       "\n",
       "    .dataframe thead th {\n",
       "        text-align: right;\n",
       "    }\n",
       "</style>\n",
       "<table border=\"1\" class=\"dataframe\">\n",
       "  <thead>\n",
       "    <tr style=\"text-align: right;\">\n",
       "      <th></th>\n",
       "      <th>repo</th>\n",
       "      <th>language</th>\n",
       "      <th>readme_contents</th>\n",
       "      <th>cleaned_readme_contents</th>\n",
       "    </tr>\n",
       "  </thead>\n",
       "  <tbody>\n",
       "    <tr>\n",
       "      <th>0</th>\n",
       "      <td>huggingface/transformers</td>\n",
       "      <td>Python</td>\n",
       "      <td>&lt;!---\\nCopyright 2020 The HuggingFace Team. Al...</td>\n",
       "      <td>copyright 2020 huggingface team right reserved...</td>\n",
       "    </tr>\n",
       "    <tr>\n",
       "      <th>1</th>\n",
       "      <td>apachecn/ailearning</td>\n",
       "      <td>Python</td>\n",
       "      <td>&lt;p align=\"center\"&gt;\\n    &lt;a href=\"https://www.a...</td>\n",
       "      <td>p aligncenter hrefhttpswwwapachecnorg img widt...</td>\n",
       "    </tr>\n",
       "    <tr>\n",
       "      <th>2</th>\n",
       "      <td>google-research/bert</td>\n",
       "      <td>Python</td>\n",
       "      <td># BERT\\n\\n**\\*\\*\\*\\*\\* New March 11th, 2020: S...</td>\n",
       "      <td>bert new march 11th 2020 smaller bert model re...</td>\n",
       "    </tr>\n",
       "  </tbody>\n",
       "</table>\n",
       "</div>"
      ],
      "text/plain": [
       "                       repo language  \\\n",
       "0  huggingface/transformers   Python   \n",
       "1       apachecn/ailearning   Python   \n",
       "2      google-research/bert   Python   \n",
       "\n",
       "                                     readme_contents  \\\n",
       "0  <!---\\nCopyright 2020 The HuggingFace Team. Al...   \n",
       "1  <p align=\"center\">\\n    <a href=\"https://www.a...   \n",
       "2  # BERT\\n\\n**\\*\\*\\*\\*\\* New March 11th, 2020: S...   \n",
       "\n",
       "                             cleaned_readme_contents  \n",
       "0  copyright 2020 huggingface team right reserved...  \n",
       "1  p aligncenter hrefhttpswwwapachecnorg img widt...  \n",
       "2  bert new march 11th 2020 smaller bert model re...  "
      ]
     },
     "execution_count": 3,
     "metadata": {},
     "output_type": "execute_result"
    }
   ],
   "source": [
    "readmes.head(3)"
   ]
  },
  {
   "cell_type": "code",
   "execution_count": null,
   "id": "a941ba20",
   "metadata": {},
   "outputs": [],
   "source": []
  },
  {
   "cell_type": "code",
   "execution_count": 7,
   "id": "e5aaf582",
   "metadata": {},
   "outputs": [],
   "source": [
    "# remove null rows (adding this to prep stage)\n",
    "readmes = readmes[readmes.cleaned_readme_contents.isna() == False]"
   ]
  },
  {
   "cell_type": "markdown",
   "id": "cda45b89",
   "metadata": {},
   "source": [
    "## Split data"
   ]
  },
  {
   "cell_type": "code",
   "execution_count": 8,
   "id": "c9e1f4a7",
   "metadata": {},
   "outputs": [],
   "source": [
    "train, validate, test = w.train_split(readmes)"
   ]
  },
  {
   "cell_type": "code",
   "execution_count": 9,
   "id": "3636b12a",
   "metadata": {},
   "outputs": [
    {
     "data": {
      "text/plain": [
       "((493, 4), (275, 4), (119, 4), (99, 4))"
      ]
     },
     "execution_count": 9,
     "metadata": {},
     "output_type": "execute_result"
    }
   ],
   "source": [
    "readmes.shape, train.shape, validate.shape, test.shape"
   ]
  },
  {
   "cell_type": "code",
   "execution_count": 13,
   "id": "d7b80989",
   "metadata": {},
   "outputs": [],
   "source": [
    "X_train = train.cleaned_readme_contents\n",
    "y_train = train.language\n",
    "X_validate = validate.cleaned_readme_contents\n",
    "y_validate = validate.language\n",
    "X_test = test.cleaned_readme_contents\n",
    "y_test = test.language"
   ]
  },
  {
   "cell_type": "markdown",
   "id": "5cb04648",
   "metadata": {},
   "source": [
    "## Baseline"
   ]
  },
  {
   "cell_type": "code",
   "execution_count": 19,
   "id": "684ebdab",
   "metadata": {},
   "outputs": [
    {
     "data": {
      "text/plain": [
       "Python    0.610909\n",
       "HTML      0.389091\n",
       "Name: language, dtype: float64"
      ]
     },
     "execution_count": 19,
     "metadata": {},
     "output_type": "execute_result"
    }
   ],
   "source": [
    "train.language.value_counts(normalize=True)"
   ]
  },
  {
   "cell_type": "code",
   "execution_count": 31,
   "id": "d11b17bb",
   "metadata": {},
   "outputs": [
    {
     "data": {
      "text/plain": [
       "0.610909090909091"
      ]
     },
     "execution_count": 31,
     "metadata": {},
     "output_type": "execute_result"
    }
   ],
   "source": [
    "train.language.value_counts(normalize=True)[0]"
   ]
  },
  {
   "cell_type": "code",
   "execution_count": 20,
   "id": "2ad83bda",
   "metadata": {},
   "outputs": [],
   "source": [
    "baseline = 'Python'"
   ]
  },
  {
   "cell_type": "code",
   "execution_count": 36,
   "id": "0ddeb844",
   "metadata": {},
   "outputs": [],
   "source": [
    "accuracy = train.language.value_counts(normalize=True)[0]\n",
    "acc_validate = validate.language.value_counts(normalize=True)[0]\n",
    "metric_df = pd.DataFrame(data=[\n",
    "    {\n",
    "        'model' : 'baseline',\n",
    "        'accuracy' : accuracy,\n",
    "        'acc-validate' : acc_validate,\n",
    "        'difference' : acc_validate - accuracy,\n",
    "    }\n",
    "])"
   ]
  },
  {
   "cell_type": "code",
   "execution_count": 37,
   "id": "0734c0ac",
   "metadata": {},
   "outputs": [
    {
     "data": {
      "text/html": [
       "<div>\n",
       "<style scoped>\n",
       "    .dataframe tbody tr th:only-of-type {\n",
       "        vertical-align: middle;\n",
       "    }\n",
       "\n",
       "    .dataframe tbody tr th {\n",
       "        vertical-align: top;\n",
       "    }\n",
       "\n",
       "    .dataframe thead th {\n",
       "        text-align: right;\n",
       "    }\n",
       "</style>\n",
       "<table border=\"1\" class=\"dataframe\">\n",
       "  <thead>\n",
       "    <tr style=\"text-align: right;\">\n",
       "      <th></th>\n",
       "      <th>model</th>\n",
       "      <th>accuracy</th>\n",
       "      <th>acc-validate</th>\n",
       "      <th>difference</th>\n",
       "    </tr>\n",
       "  </thead>\n",
       "  <tbody>\n",
       "    <tr>\n",
       "      <th>0</th>\n",
       "      <td>baseline</td>\n",
       "      <td>0.610909</td>\n",
       "      <td>0.605042</td>\n",
       "      <td>-0.005867</td>\n",
       "    </tr>\n",
       "  </tbody>\n",
       "</table>\n",
       "</div>"
      ],
      "text/plain": [
       "      model  accuracy  acc-validate  difference\n",
       "0  baseline  0.610909      0.605042   -0.005867"
      ]
     },
     "execution_count": 37,
     "metadata": {},
     "output_type": "execute_result"
    }
   ],
   "source": [
    "metric_df"
   ]
  },
  {
   "cell_type": "markdown",
   "id": "85e9ae48",
   "metadata": {},
   "source": [
    "## The baseline is 'Python' with an accuacy of 61%"
   ]
  },
  {
   "cell_type": "markdown",
   "id": "350ebb23",
   "metadata": {},
   "source": [
    "# Modeling"
   ]
  },
  {
   "cell_type": "code",
   "execution_count": null,
   "id": "ee528b9e",
   "metadata": {},
   "outputs": [],
   "source": []
  },
  {
   "cell_type": "code",
   "execution_count": 14,
   "id": "a4b379b2",
   "metadata": {},
   "outputs": [
    {
     "data": {
      "text/plain": [
       "0.8836363636363637"
      ]
     },
     "execution_count": 14,
     "metadata": {},
     "output_type": "execute_result"
    }
   ],
   "source": [
    "# make a Count Vectorizer object\n",
    "cv = CountVectorizer()\n",
    "# use the thing\n",
    "X_bow = cv.fit_transform(X_train)\n",
    "tree = DecisionTreeClassifier(max_depth=3)\n",
    "tree.fit(X_bow, y_train)\n",
    "tree.score(X_bow, y_train)"
   ]
  },
  {
   "cell_type": "code",
   "execution_count": null,
   "id": "dd2c6e4a",
   "metadata": {},
   "outputs": [],
   "source": []
  },
  {
   "cell_type": "code",
   "execution_count": 11,
   "id": "fe8709a9",
   "metadata": {},
   "outputs": [
    {
     "data": {
      "text/plain": [
       "<275x36883 sparse matrix of type '<class 'numpy.int64'>'\n",
       "\twith 85429 stored elements in Compressed Sparse Row format>"
      ]
     },
     "execution_count": 11,
     "metadata": {},
     "output_type": "execute_result"
    }
   ],
   "source": [
    "bag_of_words_cv"
   ]
  },
  {
   "cell_type": "code",
   "execution_count": 12,
   "id": "f20976a1",
   "metadata": {},
   "outputs": [],
   "source": [
    "# make a Tfidf Vectorizer object\n",
    "tfidf = TfidfVectorizer()\n",
    "# use the thing\n",
    "bag_of_words_tfidf = tfidf.fit_transform(X_train)"
   ]
  },
  {
   "cell_type": "code",
   "execution_count": null,
   "id": "7bd781d1",
   "metadata": {},
   "outputs": [],
   "source": []
  },
  {
   "cell_type": "code",
   "execution_count": null,
   "id": "533ed1e2",
   "metadata": {},
   "outputs": [],
   "source": [
    "cv = CountVectorizer(ngram_range=(1, 3))\n",
    "bag_of_grams = cv.fit_transform(X_train)"
   ]
  },
  {
   "cell_type": "code",
   "execution_count": null,
   "id": "2b4cfce2",
   "metadata": {},
   "outputs": [],
   "source": [
    "tfidf = CountVectorizer(ngram_range=(2, 3))\n",
    "bag_of_grams = tfidf.fit_transform(X_train)"
   ]
  },
  {
   "cell_type": "code",
   "execution_count": null,
   "id": "7afca444",
   "metadata": {},
   "outputs": [],
   "source": []
  },
  {
   "cell_type": "code",
   "execution_count": null,
   "id": "a0ac35b9",
   "metadata": {},
   "outputs": [],
   "source": []
  },
  {
   "cell_type": "code",
   "execution_count": 29,
   "id": "c5264165",
   "metadata": {},
   "outputs": [],
   "source": []
  },
  {
   "cell_type": "code",
   "execution_count": 41,
   "id": "c0db03db",
   "metadata": {},
   "outputs": [
    {
     "name": "stderr",
     "output_type": "stream",
     "text": [
      "/var/folders/49/v6sf5vy165dghytk4qv6jfhc0000gn/T/ipykernel_1383/941713660.py:11: FutureWarning: The frame.append method is deprecated and will be removed from pandas in a future version. Use pandas.concat instead.\n",
      "  metric_df = metric_df.append(\n",
      "/var/folders/49/v6sf5vy165dghytk4qv6jfhc0000gn/T/ipykernel_1383/941713660.py:11: FutureWarning: The frame.append method is deprecated and will be removed from pandas in a future version. Use pandas.concat instead.\n",
      "  metric_df = metric_df.append(\n",
      "/var/folders/49/v6sf5vy165dghytk4qv6jfhc0000gn/T/ipykernel_1383/941713660.py:11: FutureWarning: The frame.append method is deprecated and will be removed from pandas in a future version. Use pandas.concat instead.\n",
      "  metric_df = metric_df.append(\n",
      "/var/folders/49/v6sf5vy165dghytk4qv6jfhc0000gn/T/ipykernel_1383/941713660.py:11: FutureWarning: The frame.append method is deprecated and will be removed from pandas in a future version. Use pandas.concat instead.\n",
      "  metric_df = metric_df.append(\n",
      "/var/folders/49/v6sf5vy165dghytk4qv6jfhc0000gn/T/ipykernel_1383/941713660.py:11: FutureWarning: The frame.append method is deprecated and will be removed from pandas in a future version. Use pandas.concat instead.\n",
      "  metric_df = metric_df.append(\n",
      "/var/folders/49/v6sf5vy165dghytk4qv6jfhc0000gn/T/ipykernel_1383/941713660.py:11: FutureWarning: The frame.append method is deprecated and will be removed from pandas in a future version. Use pandas.concat instead.\n",
      "  metric_df = metric_df.append(\n",
      "/var/folders/49/v6sf5vy165dghytk4qv6jfhc0000gn/T/ipykernel_1383/941713660.py:11: FutureWarning: The frame.append method is deprecated and will be removed from pandas in a future version. Use pandas.concat instead.\n",
      "  metric_df = metric_df.append(\n",
      "/var/folders/49/v6sf5vy165dghytk4qv6jfhc0000gn/T/ipykernel_1383/941713660.py:11: FutureWarning: The frame.append method is deprecated and will be removed from pandas in a future version. Use pandas.concat instead.\n",
      "  metric_df = metric_df.append(\n",
      "/var/folders/49/v6sf5vy165dghytk4qv6jfhc0000gn/T/ipykernel_1383/941713660.py:11: FutureWarning: The frame.append method is deprecated and will be removed from pandas in a future version. Use pandas.concat instead.\n",
      "  metric_df = metric_df.append(\n",
      "/var/folders/49/v6sf5vy165dghytk4qv6jfhc0000gn/T/ipykernel_1383/941713660.py:11: FutureWarning: The frame.append method is deprecated and will be removed from pandas in a future version. Use pandas.concat instead.\n",
      "  metric_df = metric_df.append(\n",
      "/var/folders/49/v6sf5vy165dghytk4qv6jfhc0000gn/T/ipykernel_1383/941713660.py:11: FutureWarning: The frame.append method is deprecated and will be removed from pandas in a future version. Use pandas.concat instead.\n",
      "  metric_df = metric_df.append(\n",
      "/var/folders/49/v6sf5vy165dghytk4qv6jfhc0000gn/T/ipykernel_1383/941713660.py:11: FutureWarning: The frame.append method is deprecated and will be removed from pandas in a future version. Use pandas.concat instead.\n",
      "  metric_df = metric_df.append(\n",
      "/var/folders/49/v6sf5vy165dghytk4qv6jfhc0000gn/T/ipykernel_1383/941713660.py:11: FutureWarning: The frame.append method is deprecated and will be removed from pandas in a future version. Use pandas.concat instead.\n",
      "  metric_df = metric_df.append(\n",
      "/var/folders/49/v6sf5vy165dghytk4qv6jfhc0000gn/T/ipykernel_1383/941713660.py:11: FutureWarning: The frame.append method is deprecated and will be removed from pandas in a future version. Use pandas.concat instead.\n",
      "  metric_df = metric_df.append(\n",
      "/var/folders/49/v6sf5vy165dghytk4qv6jfhc0000gn/T/ipykernel_1383/941713660.py:11: FutureWarning: The frame.append method is deprecated and will be removed from pandas in a future version. Use pandas.concat instead.\n",
      "  metric_df = metric_df.append(\n"
     ]
    }
   ],
   "source": [
    "for i in range(1,4):\n",
    "    for j in range(3,8):\n",
    "        cv = CountVectorizer(ngram_range=(i, i))\n",
    "        X_bow = cv.fit_transform(X_train)\n",
    "        X_val_bow = cv.transform(X_validate)\n",
    "        tree = DecisionTreeClassifier(max_depth=j)\n",
    "        tree.fit(X_bow, y_train)\n",
    "        accuracy = tree.score(X_bow, y_train)\n",
    "        acc_validate = tree.score(X_val_bow, y_validate)\n",
    "        \n",
    "        metric_df = metric_df.append(\n",
    "            {\n",
    "                'model' : f'decistion_tree-cv_{i}gram_{j}depth',\n",
    "                'accuracy' : accuracy,\n",
    "                'acc-validate' : acc_validate,\n",
    "                'difference' : acc_validate - accuracy,\n",
    "            }, ignore_index=True\n",
    "        )"
   ]
  },
  {
   "cell_type": "code",
   "execution_count": 42,
   "id": "b4b2bb73",
   "metadata": {},
   "outputs": [
    {
     "data": {
      "text/html": [
       "<div>\n",
       "<style scoped>\n",
       "    .dataframe tbody tr th:only-of-type {\n",
       "        vertical-align: middle;\n",
       "    }\n",
       "\n",
       "    .dataframe tbody tr th {\n",
       "        vertical-align: top;\n",
       "    }\n",
       "\n",
       "    .dataframe thead th {\n",
       "        text-align: right;\n",
       "    }\n",
       "</style>\n",
       "<table border=\"1\" class=\"dataframe\">\n",
       "  <thead>\n",
       "    <tr style=\"text-align: right;\">\n",
       "      <th></th>\n",
       "      <th>model</th>\n",
       "      <th>accuracy</th>\n",
       "      <th>acc-validate</th>\n",
       "      <th>difference</th>\n",
       "    </tr>\n",
       "  </thead>\n",
       "  <tbody>\n",
       "    <tr>\n",
       "      <th>0</th>\n",
       "      <td>baseline</td>\n",
       "      <td>0.610909</td>\n",
       "      <td>0.605042</td>\n",
       "      <td>-0.005867</td>\n",
       "    </tr>\n",
       "    <tr>\n",
       "      <th>1</th>\n",
       "      <td>decistion_tree-cv_1gram_3depth</td>\n",
       "      <td>0.883636</td>\n",
       "      <td>0.789916</td>\n",
       "      <td>-0.093720</td>\n",
       "    </tr>\n",
       "    <tr>\n",
       "      <th>2</th>\n",
       "      <td>decistion_tree-cv_1gram_4depth</td>\n",
       "      <td>0.923636</td>\n",
       "      <td>0.764706</td>\n",
       "      <td>-0.158930</td>\n",
       "    </tr>\n",
       "    <tr>\n",
       "      <th>3</th>\n",
       "      <td>decistion_tree-cv_1gram_5depth</td>\n",
       "      <td>0.949091</td>\n",
       "      <td>0.747899</td>\n",
       "      <td>-0.201192</td>\n",
       "    </tr>\n",
       "    <tr>\n",
       "      <th>4</th>\n",
       "      <td>decistion_tree-cv_1gram_6depth</td>\n",
       "      <td>0.963636</td>\n",
       "      <td>0.764706</td>\n",
       "      <td>-0.198930</td>\n",
       "    </tr>\n",
       "    <tr>\n",
       "      <th>5</th>\n",
       "      <td>decistion_tree-cv_1gram_7depth</td>\n",
       "      <td>0.970909</td>\n",
       "      <td>0.722689</td>\n",
       "      <td>-0.248220</td>\n",
       "    </tr>\n",
       "    <tr>\n",
       "      <th>6</th>\n",
       "      <td>decistion_tree-cv_2gram_3depth</td>\n",
       "      <td>0.792727</td>\n",
       "      <td>0.697479</td>\n",
       "      <td>-0.095248</td>\n",
       "    </tr>\n",
       "    <tr>\n",
       "      <th>7</th>\n",
       "      <td>decistion_tree-cv_2gram_4depth</td>\n",
       "      <td>0.825455</td>\n",
       "      <td>0.697479</td>\n",
       "      <td>-0.127976</td>\n",
       "    </tr>\n",
       "    <tr>\n",
       "      <th>8</th>\n",
       "      <td>decistion_tree-cv_2gram_5depth</td>\n",
       "      <td>0.854545</td>\n",
       "      <td>0.697479</td>\n",
       "      <td>-0.157066</td>\n",
       "    </tr>\n",
       "    <tr>\n",
       "      <th>9</th>\n",
       "      <td>decistion_tree-cv_2gram_6depth</td>\n",
       "      <td>0.865455</td>\n",
       "      <td>0.689076</td>\n",
       "      <td>-0.176379</td>\n",
       "    </tr>\n",
       "    <tr>\n",
       "      <th>10</th>\n",
       "      <td>decistion_tree-cv_2gram_7depth</td>\n",
       "      <td>0.894545</td>\n",
       "      <td>0.680672</td>\n",
       "      <td>-0.213873</td>\n",
       "    </tr>\n",
       "    <tr>\n",
       "      <th>11</th>\n",
       "      <td>decistion_tree-cv_3gram_3depth</td>\n",
       "      <td>0.640000</td>\n",
       "      <td>0.579832</td>\n",
       "      <td>-0.060168</td>\n",
       "    </tr>\n",
       "    <tr>\n",
       "      <th>12</th>\n",
       "      <td>decistion_tree-cv_3gram_4depth</td>\n",
       "      <td>0.676364</td>\n",
       "      <td>0.596639</td>\n",
       "      <td>-0.079725</td>\n",
       "    </tr>\n",
       "    <tr>\n",
       "      <th>13</th>\n",
       "      <td>decistion_tree-cv_3gram_5depth</td>\n",
       "      <td>0.709091</td>\n",
       "      <td>0.621849</td>\n",
       "      <td>-0.087242</td>\n",
       "    </tr>\n",
       "    <tr>\n",
       "      <th>14</th>\n",
       "      <td>decistion_tree-cv_3gram_6depth</td>\n",
       "      <td>0.738182</td>\n",
       "      <td>0.630252</td>\n",
       "      <td>-0.107930</td>\n",
       "    </tr>\n",
       "    <tr>\n",
       "      <th>15</th>\n",
       "      <td>decistion_tree-cv_3gram_7depth</td>\n",
       "      <td>0.756364</td>\n",
       "      <td>0.663866</td>\n",
       "      <td>-0.092498</td>\n",
       "    </tr>\n",
       "  </tbody>\n",
       "</table>\n",
       "</div>"
      ],
      "text/plain": [
       "                             model  accuracy  acc-validate  difference\n",
       "0                         baseline  0.610909      0.605042   -0.005867\n",
       "1   decistion_tree-cv_1gram_3depth  0.883636      0.789916   -0.093720\n",
       "2   decistion_tree-cv_1gram_4depth  0.923636      0.764706   -0.158930\n",
       "3   decistion_tree-cv_1gram_5depth  0.949091      0.747899   -0.201192\n",
       "4   decistion_tree-cv_1gram_6depth  0.963636      0.764706   -0.198930\n",
       "5   decistion_tree-cv_1gram_7depth  0.970909      0.722689   -0.248220\n",
       "6   decistion_tree-cv_2gram_3depth  0.792727      0.697479   -0.095248\n",
       "7   decistion_tree-cv_2gram_4depth  0.825455      0.697479   -0.127976\n",
       "8   decistion_tree-cv_2gram_5depth  0.854545      0.697479   -0.157066\n",
       "9   decistion_tree-cv_2gram_6depth  0.865455      0.689076   -0.176379\n",
       "10  decistion_tree-cv_2gram_7depth  0.894545      0.680672   -0.213873\n",
       "11  decistion_tree-cv_3gram_3depth  0.640000      0.579832   -0.060168\n",
       "12  decistion_tree-cv_3gram_4depth  0.676364      0.596639   -0.079725\n",
       "13  decistion_tree-cv_3gram_5depth  0.709091      0.621849   -0.087242\n",
       "14  decistion_tree-cv_3gram_6depth  0.738182      0.630252   -0.107930\n",
       "15  decistion_tree-cv_3gram_7depth  0.756364      0.663866   -0.092498"
      ]
     },
     "execution_count": 42,
     "metadata": {},
     "output_type": "execute_result"
    }
   ],
   "source": [
    "metric_df"
   ]
  },
  {
   "cell_type": "code",
   "execution_count": null,
   "id": "eace0b71",
   "metadata": {},
   "outputs": [],
   "source": [
    "def model_metrics(model,\n",
    "                  model_name,\n",
    "                  X_train, \n",
    "                  y_train, \n",
    "                  X_val, \n",
    "                  y_val, \n",
    "                  scores=metric_df):\n",
    "    '''\n",
    "    model_metrics will use an sklearn model object to \n",
    "    create predictions after fitting on our training set, and add\n",
    "    the model scores to a pre-established metric_df\n",
    "    returns: metric_df\n",
    "    '''\n",
    "    # fit our model object\n",
    "    model.fit(X_train, y_train['Infant.Mortality'])\n",
    "    in_sample_pred = model.predict(X_train)\n",
    "    out_sample_pred = model.predict(X_val)\n",
    "#     model_name = input('Name for model? python identifer friendly pls.\\n')\n",
    "    y_train[model_name] = in_sample_pred\n",
    "    y_val[model_name] = out_sample_pred\n",
    "    print(y_val.shape)\n",
    "    print(out_sample_pred.shape)\n",
    "    rmse_val = mean_squared_error(\n",
    "    y_val['Infant.Mortality'], out_sample_pred, squared=False)\n",
    "    r_squared_val = explained_variance_score(\n",
    "        y_val['Infant.Mortality'], out_sample_pred)\n",
    "    return metric_df.append({\n",
    "        'model': model_name,\n",
    "        'rmse': rmse_val,\n",
    "        'r^2': r_squared_val\n",
    "    \n",
    "    }, ignore_index=True)"
   ]
  }
 ],
 "metadata": {
  "kernelspec": {
   "display_name": "Python 3 (ipykernel)",
   "language": "python",
   "name": "python3"
  },
  "language_info": {
   "codemirror_mode": {
    "name": "ipython",
    "version": 3
   },
   "file_extension": ".py",
   "mimetype": "text/x-python",
   "name": "python",
   "nbconvert_exporter": "python",
   "pygments_lexer": "ipython3",
   "version": "3.9.13"
  }
 },
 "nbformat": 4,
 "nbformat_minor": 5
}
