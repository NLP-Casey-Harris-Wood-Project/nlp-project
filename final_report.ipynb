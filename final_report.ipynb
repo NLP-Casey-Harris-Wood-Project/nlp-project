{
 "cells": [
  {
   "cell_type": "markdown",
   "id": "premier-milan",
   "metadata": {},
   "source": [
    "<!-- style='background-color:orange ; -->\n",
    "<!-- <b><i><h1text-align:center ; padding-top:5px ; padding-bottom:5px'> -->\n",
    "# Predicting Python/HTML of Github NLP Repositories\n",
    "<!-- </h1></i></b> -->"
   ]
  },
  {
   "cell_type": "markdown",
   "id": "1c7a9ed8",
   "metadata": {},
   "source": [
    "## Overview"
   ]
  },
  {
   "cell_type": "markdown",
   "id": "8cf6cced",
   "metadata": {},
   "source": [
    "Utilizing Web-Scraping techniques on Github NLP repository's README that have the majority of the code as Python or HTML, create a classification model that accurately predicts the predominant coding language used within each repository.  This is important to see if there is any pattern of vocabulary usage that tends to dictate the predominant coding language."
   ]
  },
  {
   "cell_type": "markdown",
   "id": "01d1e046",
   "metadata": {},
   "source": [
    "---"
   ]
  },
  {
   "cell_type": "markdown",
   "id": "going-assembly",
   "metadata": {},
   "source": [
    "<b><i><h1 style='background-color:orange ; text-align:center ; padding-top:5px ; padding-bottom:5px'>\n",
    "    Imports\n",
    "</h1></i></b>"
   ]
  },
  {
   "cell_type": "markdown",
   "id": "20d5e639",
   "metadata": {},
   "source": [
    "| Python Library | Version | Usage |\n",
    "| ----- | ----- | ----- |\n",
    "| numpy | 1.21.5 | Vectorization |\n",
    "| pandas | 1.4.4 | Dataframing |\n",
    "| matplotlib | 3.5.2 | Visualization |\n",
    "| seaborn | 0.11.2 | Visualization |\n",
    "| wordcloud | 1.9.1.1 | Visualization |\n",
    "| bs4 | 4.11.1 | NLP |\n",
    "| requests | 2.28.1 | NLP |\n",
    "| regex | 2022.7.9 | NLP |\n",
    "| nltk | 3.7 | NLP |\n",
    "| unicodedata | X | NLP |\n",
    "| sklearn | 1.0.2 | Stats, Metrics, Modeling |"
   ]
  },
  {
   "cell_type": "code",
   "execution_count": null,
   "id": "d77fc616",
   "metadata": {},
   "outputs": [],
   "source": [
    "# Import for final_report"
   ]
  },
  {
   "cell_type": "markdown",
   "id": "criminal-glory",
   "metadata": {},
   "source": [
    "<b><i><h1 style='background-color:orange ; text-align:center ; padding-top:5px ; padding-bottom:5px'>\n",
    "    Acquire\n",
    "</h1></i></b>\n",
    "\n",
    "Requirements from grading rubric (WRANGLE):\n",
    "- Called wrangle functions\n",
    "- Markdown explaining preparation and why \n",
    "- Explain handling missing values\n",
    "- Split into train, validate, test"
   ]
  },
  {
   "cell_type": "markdown",
   "id": "bc0b0f4b",
   "metadata": {},
   "source": [
    "<b>Data Description:</b>\n",
    "- Web-scraped data from 500 NLP related Github repositories that contain the README contents and predominant code language (Python or HTML) for each repository.  The target variable is the predominant coding language of each repository (Python or HTML)."
   ]
  },
  {
   "cell_type": "markdown",
   "id": "73341e03",
   "metadata": {},
   "source": [
    "---"
   ]
  },
  {
   "cell_type": "markdown",
   "id": "9f49a612",
   "metadata": {},
   "source": [
    "<b>Data Dictionary:</b>\n",
    "\n",
    "| Feature Name | Data Type | Description | Example |\n",
    "| ----- | ----- | ----- | ----- |\n",
    "| repo_names | object | Name of Repository | 'huggingface/transformers' |\n",
    "| contents | object | Contents of Repository's README file | 'Transformers provides thousands of pretrained...' |\n",
    "| language | object | Predominant coding language of Repository | 'Python' |"
   ]
  },
  {
   "cell_type": "markdown",
   "id": "e77142bd",
   "metadata": {},
   "source": [
    "---"
   ]
  },
  {
   "cell_type": "code",
   "execution_count": 1,
   "id": "paperback-gather",
   "metadata": {},
   "outputs": [],
   "source": [
    "# Import acquired messy data from your acquire file here"
   ]
  },
  {
   "cell_type": "markdown",
   "id": "1d1d9cf2",
   "metadata": {},
   "source": [
    "<b>Vanilla Data Shape:</b>\n",
    "\n",
    "- Columns:\n",
    "- Rows:"
   ]
  },
  {
   "cell_type": "markdown",
   "id": "impossible-bible",
   "metadata": {},
   "source": [
    "<b><i><h1 style='background-color:orange ; text-align:center ; padding-top:5px ; padding-bottom:5px'>\n",
    "    Prepare\n",
    "</h1></i></b>\n",
    "\n",
    "Requirements from grading rubric (WRANGLE):\n",
    "- Called wrangle functions\n",
    "- Markdown explaining preparation and why \n",
    "- Explain handling missing values\n",
    "- Split into train, validate, test"
   ]
  },
  {
   "cell_type": "markdown",
   "id": "47ffd639",
   "metadata": {},
   "source": [
    "<b>Missing Value Handling:</b>\n",
    "\n",
    "Nothing of significance."
   ]
  },
  {
   "cell_type": "markdown",
   "id": "67004b1c",
   "metadata": {},
   "source": [
    "---"
   ]
  },
  {
   "cell_type": "markdown",
   "id": "6c2f6814",
   "metadata": {},
   "source": [
    "<b>NLP Methodology</b>\n",
    "\n",
    "1. Clean text of contents\n",
    "2. Tokenize cleaned text\n",
    "3. Lemmatize tokenized data\n",
    "4. Remove stop-words (To include predominant coding language) of lemmatized data"
   ]
  },
  {
   "cell_type": "markdown",
   "id": "eb3569bc",
   "metadata": {},
   "source": [
    "---"
   ]
  },
  {
   "cell_type": "markdown",
   "id": "a8916994",
   "metadata": {},
   "source": [
    "<b>Other Preparation</b>\n",
    "\n",
    "1. Stuff"
   ]
  },
  {
   "cell_type": "code",
   "execution_count": 4,
   "id": "flexible-irrigation",
   "metadata": {},
   "outputs": [],
   "source": [
    "# Import your prepare function and use it to clean your data here"
   ]
  },
  {
   "cell_type": "markdown",
   "id": "immediate-mirror",
   "metadata": {},
   "source": [
    "<b><i><h1 style='background-color:orange ; text-align:center ; padding-top:5px ; padding-bottom:5px'>\n",
    "    Explore\n",
    "</h1></i></b>\n",
    "\n",
    "Requirements from grading rubric:\n",
    "- 4 Questions w/ clear answer\n",
    "- 5 visuals (If statistics shown, must relate to visual)\n",
    "- 1 accurate statistical test\n",
    "- Summary (Takeaways, features for modeling w/ explanation)"
   ]
  },
  {
   "cell_type": "code",
   "execution_count": 5,
   "id": "5d1edb17",
   "metadata": {},
   "outputs": [],
   "source": [
    "# Orientation Visual HERE?"
   ]
  },
  {
   "cell_type": "markdown",
   "id": "db1f9862",
   "metadata": {},
   "source": [
    "---"
   ]
  },
  {
   "cell_type": "markdown",
   "id": "13792470",
   "metadata": {},
   "source": [
    "<b>Question 1:</b> Is there unique terminology used for Python and HTML?"
   ]
  },
  {
   "cell_type": "markdown",
   "id": "6a70f517",
   "metadata": {},
   "source": [
    "<b>IF STAT TESTING, OTHERWISE DELETE THIS</b>\n",
    "\n",
    "<b>H$_0$:</b> Null Hypothesis\n",
    "\n",
    "<b>H$_a$:</b> Alternate Hypothesis"
   ]
  },
  {
   "cell_type": "code",
   "execution_count": 1,
   "id": "f64b7231",
   "metadata": {},
   "outputs": [],
   "source": [
    "# Visual to Question 1 HERE"
   ]
  },
  {
   "cell_type": "code",
   "execution_count": 2,
   "id": "a868985a",
   "metadata": {},
   "outputs": [],
   "source": [
    "# IF STAT TEST, PUT HERE, OTHERWISE DELETE THIS"
   ]
  },
  {
   "cell_type": "markdown",
   "id": "f268eb68",
   "metadata": {},
   "source": [
    "<b>IF STAT TESTING, OTHERWISE DELETE THIS</b>\n",
    "\n",
    "Accept <mark><b>Null/Alternate Hypothesis</b></mark>"
   ]
  },
  {
   "cell_type": "markdown",
   "id": "7419d6e4",
   "metadata": {},
   "source": [
    "<b>Answer to Question 1:</b> STUFF"
   ]
  },
  {
   "cell_type": "markdown",
   "id": "959c601b",
   "metadata": {},
   "source": [
    "<b>Takeaway:</b> STUFF"
   ]
  },
  {
   "cell_type": "markdown",
   "id": "beb2d8e6",
   "metadata": {},
   "source": [
    "---"
   ]
  },
  {
   "cell_type": "markdown",
   "id": "3c1126a2",
   "metadata": {},
   "source": [
    "<b>Question 2:</b> Are there words that are used more in Python than HTML and vice versa?"
   ]
  },
  {
   "cell_type": "markdown",
   "id": "d74e1958",
   "metadata": {},
   "source": [
    "<b>IF STAT TESTING, OTHERWISE DELETE THIS</b>\n",
    "\n",
    "<b>H$_0$:</b> Null Hypothesis\n",
    "\n",
    "<b>H$_a$:</b> Alternate Hypothesis"
   ]
  },
  {
   "cell_type": "code",
   "execution_count": 1,
   "id": "05ecca86",
   "metadata": {},
   "outputs": [],
   "source": [
    "# Visual to Question 2 HERE"
   ]
  },
  {
   "cell_type": "code",
   "execution_count": 2,
   "id": "d6b4af33",
   "metadata": {},
   "outputs": [],
   "source": [
    "# IF STAT TEST, PUT HERE, OTHERWISE DELETE THIS"
   ]
  },
  {
   "cell_type": "markdown",
   "id": "a0e8e74e",
   "metadata": {},
   "source": [
    "<b>IF STAT TESTING, OTHERWISE DELETE THIS</b>\n",
    "\n",
    "Accept <mark><b>Null/Alternate Hypothesis</b></mark>"
   ]
  },
  {
   "cell_type": "markdown",
   "id": "f0826bcc",
   "metadata": {},
   "source": [
    "<b>Answer to Question 2:</b> STUFF"
   ]
  },
  {
   "cell_type": "markdown",
   "id": "5ab5eaf1",
   "metadata": {},
   "source": [
    "<b>Takeaway:</b> STUFF"
   ]
  },
  {
   "cell_type": "markdown",
   "id": "f68c004c",
   "metadata": {},
   "source": [
    "---"
   ]
  },
  {
   "cell_type": "markdown",
   "id": "5cb92627",
   "metadata": {},
   "source": [
    "<b>Question 3:</b> Are there 2-word combinations that are used more in Python than HTML and vice versa?"
   ]
  },
  {
   "cell_type": "markdown",
   "id": "21e4b08e",
   "metadata": {},
   "source": [
    "<b>IF STAT TESTING, OTHERWISE DELETE THIS</b>\n",
    "\n",
    "<b>H$_0$:</b> Null Hypothesis\n",
    "\n",
    "<b>H$_a$:</b> Alternate Hypothesis"
   ]
  },
  {
   "cell_type": "code",
   "execution_count": 3,
   "id": "eba91d36",
   "metadata": {},
   "outputs": [],
   "source": [
    "# Visual to Question 3 HERE"
   ]
  },
  {
   "cell_type": "code",
   "execution_count": 2,
   "id": "ec281bc3",
   "metadata": {},
   "outputs": [],
   "source": [
    "# IF STAT TEST, PUT HERE, OTHERWISE DELETE THIS"
   ]
  },
  {
   "cell_type": "markdown",
   "id": "1afe436d",
   "metadata": {},
   "source": [
    "<b>IF STAT TESTING, OTHERWISE DELETE THIS</b>\n",
    "\n",
    "Accept <mark><b>Null/Alternate Hypothesis</b></mark>"
   ]
  },
  {
   "cell_type": "markdown",
   "id": "0a900cdc",
   "metadata": {},
   "source": [
    "<b>Answer to Question 3:</b> STUFF"
   ]
  },
  {
   "cell_type": "markdown",
   "id": "01d4aaed",
   "metadata": {},
   "source": [
    "<b>Takeaway:</b> STUFF"
   ]
  },
  {
   "cell_type": "markdown",
   "id": "cdb575a6",
   "metadata": {},
   "source": [
    "---"
   ]
  },
  {
   "cell_type": "markdown",
   "id": "973212dd",
   "metadata": {},
   "source": [
    "<b>Question 4:</b> Are there 3-word combinations that are used more in Python than HTML and vice versa?"
   ]
  },
  {
   "cell_type": "markdown",
   "id": "8ab4665e",
   "metadata": {},
   "source": [
    "<b>IF STAT TESTING, OTHERWISE DELETE THIS</b>\n",
    "\n",
    "<b>H$_0$:</b> Null Hypothesis\n",
    "\n",
    "<b>H$_a$:</b> Alternate Hypothesis"
   ]
  },
  {
   "cell_type": "code",
   "execution_count": 4,
   "id": "3ed19ced",
   "metadata": {},
   "outputs": [],
   "source": [
    "# Visual to Question 4 HERE"
   ]
  },
  {
   "cell_type": "code",
   "execution_count": 2,
   "id": "e01cefef",
   "metadata": {},
   "outputs": [],
   "source": [
    "# IF STAT TEST, PUT HERE, OTHERWISE DELETE THIS"
   ]
  },
  {
   "cell_type": "markdown",
   "id": "e683ce62",
   "metadata": {},
   "source": [
    "<b>IF STAT TESTING, OTHERWISE DELETE THIS</b>\n",
    "\n",
    "Accept <mark><b>Null/Alternate Hypothesis</b></mark>"
   ]
  },
  {
   "cell_type": "markdown",
   "id": "ed521aee",
   "metadata": {},
   "source": [
    "<b>Answer to Question 4:</b> STUFF"
   ]
  },
  {
   "cell_type": "markdown",
   "id": "2956730e",
   "metadata": {},
   "source": [
    "<b>Takeaway:</b> STUFF"
   ]
  },
  {
   "cell_type": "markdown",
   "id": "a9a20af5",
   "metadata": {},
   "source": [
    "---"
   ]
  },
  {
   "cell_type": "markdown",
   "id": "iraqi-sellers",
   "metadata": {},
   "source": [
    "## Exploration Summary"
   ]
  },
  {
   "cell_type": "markdown",
   "id": "4f12703d",
   "metadata": {},
   "source": [
    "<b>Takeaway:</b> STUFF\n",
    "\n",
    "<b>Features For Modeling:</b> FEATURE W/ EXPLANATION"
   ]
  },
  {
   "cell_type": "markdown",
   "id": "minus-tulsa",
   "metadata": {},
   "source": [
    "<b><i><h1 style='background-color:orange ; text-align:center ; padding-top:5px ; padding-bottom:5px'>\n",
    "    Modeling\n",
    "</h1></i></b>\n",
    "\n",
    "Requirements from grading rubric:\n",
    "- Identify and explain model evaluation metric\n",
    "- Baseline creation\n",
    "- All models used on train and validate\n",
    "- ONLY top model on test\n",
    "- At least 3 unique models"
   ]
  },
  {
   "cell_type": "markdown",
   "id": "619d713f",
   "metadata": {},
   "source": [
    "### Model Evaluation Metric\n",
    "- Metric: <b><mark>Accuracy</mark></b>\n",
    "- Since we do not necessarily care for specifically Python or HTML predictions, but rather the overall accuracy of the model, we will evaluate models on their accuracy scores"
   ]
  },
  {
   "cell_type": "markdown",
   "id": "d443daf2",
   "metadata": {},
   "source": [
    "---"
   ]
  },
  {
   "cell_type": "markdown",
   "id": "dc9e47fc",
   "metadata": {},
   "source": [
    "### Baseline\n",
    "- What it is and explanation"
   ]
  },
  {
   "cell_type": "code",
   "execution_count": 3,
   "id": "e4490268",
   "metadata": {},
   "outputs": [],
   "source": [
    "# If you use code to generate your baseline run the code and generate the output here"
   ]
  },
  {
   "cell_type": "markdown",
   "id": "cb925996",
   "metadata": {},
   "source": [
    "Printout should read: <br>\n",
    "Baseline: \"number\" \"evaluation metric\""
   ]
  },
  {
   "cell_type": "markdown",
   "id": "f3327864",
   "metadata": {},
   "source": [
    "---"
   ]
  },
  {
   "cell_type": "markdown",
   "id": "bc52742e",
   "metadata": {},
   "source": [
    "### Models"
   ]
  },
  {
   "cell_type": "code",
   "execution_count": 6,
   "id": "51a507a5",
   "metadata": {},
   "outputs": [],
   "source": [
    "# pd.DataFrame of models HERE???"
   ]
  },
  {
   "cell_type": "markdown",
   "id": "4fce6601",
   "metadata": {},
   "source": [
    "Printout of model code should read: <br>\n",
    "\"Model Type\" <br>\n",
    "\"evaluation metric\" on Test: \"evaluation result\" <br>"
   ]
  },
  {
   "cell_type": "markdown",
   "id": "c9af7779",
   "metadata": {},
   "source": [
    "Model dict keys???\n",
    "- model_name\n",
    "- model_type\n",
    "- train_accuracy\n",
    "- validate_accuracy\n",
    "- diff_accuracy"
   ]
  },
  {
   "cell_type": "markdown",
   "id": "c8d9694a",
   "metadata": {},
   "source": [
    "---"
   ]
  },
  {
   "cell_type": "markdown",
   "id": "681fe5bd",
   "metadata": {},
   "source": [
    "### Best 3 Models"
   ]
  },
  {
   "cell_type": "code",
   "execution_count": 8,
   "id": "a824a037",
   "metadata": {},
   "outputs": [],
   "source": [
    "# pd.DataFrame of best 3 models HERE???"
   ]
  },
  {
   "cell_type": "markdown",
   "id": "3f1cb867",
   "metadata": {},
   "source": [
    "---"
   ]
  },
  {
   "cell_type": "markdown",
   "id": "bright-evans",
   "metadata": {},
   "source": [
    "### Modeling Wrap \n",
    "* Give a final interpretation of how the models test score compares to the baseline and weather you would recommend this model for production"
   ]
  },
  {
   "cell_type": "markdown",
   "id": "27e9c797",
   "metadata": {},
   "source": [
    "<b><i><h1 style='background-color:orange ; text-align:center ; padding-top:5px ; padding-bottom:5px'>\n",
    "    Conclusion\n",
    "</h1></i></b>\n",
    "\n",
    "Requirements from grading rubric:\n",
    "- Summary (Addresses questions at beginning)\n",
    "- Actionable recommendations\n",
    "- Next Steps"
   ]
  },
  {
   "cell_type": "markdown",
   "id": "tutorial-twelve",
   "metadata": {},
   "source": [
    "### Summary\n",
    "* Summarize your findings and answer the questions you brought up in explore \n",
    "* Summarize how drivers discovered lead or did not lead to a successful model \n",
    "\n",
    "### Recommendations\n",
    "* Recommendations are actions the stakeholder should take based on your insights\n",
    "\n",
    "### Next Steps\n",
    "* Next Steps are what you, as a Data Scientist, would do if provided more time to work on the project"
   ]
  },
  {
   "cell_type": "markdown",
   "id": "tender-source",
   "metadata": {},
   "source": [
    "**Where there is code in your report there should also be code comments telling the reader what each code block is doing. This is true for any and all code blocks even if you are using a function to import code from a module.**\n",
    "<br>\n",
    "<br>\n",
    "**Your Notebook should contain adequate markdown that documents your thought process, decision making, and navigation through the pipeline. As a Data Scientist, your job does not end with making data discoveries. It includes effectively communicating those discoveries as well. This means documentation is a critical part of your job.**"
   ]
  },
  {
   "cell_type": "markdown",
   "id": "frank-castle",
   "metadata": {},
   "source": [
    "# README\n",
    "\n",
    "Your README should contain all of the following elements:\n",
    "\n",
    "* **Title** Gives the name of your project\n",
    "* **Project Description** Describes what your project is and why it is important \n",
    "* **Project Goal** Clearly states what your project sets out to do and how the information gained can be applied to the real world\n",
    "* **Initial Hypotheses** Initial questions used to focus your project \n",
    "* **Project Plan** Guides the reader through the different stages of the pipeline as they relate to your project\n",
    "* **Data Dictionary** Gives a definition for each of the features used in your report and the units they are measured in, if applicable\n",
    "* **Steps to Reproduce** Gives instructions for reproducing your work. i.e. Running your notebook on someone else's computer."
   ]
  }
 ],
 "metadata": {
  "kernelspec": {
   "display_name": "Python 3 (ipykernel)",
   "language": "python",
   "name": "python3"
  },
  "language_info": {
   "codemirror_mode": {
    "name": "ipython",
    "version": 3
   },
   "file_extension": ".py",
   "mimetype": "text/x-python",
   "name": "python",
   "nbconvert_exporter": "python",
   "pygments_lexer": "ipython3",
   "version": "3.9.13"
  }
 },
 "nbformat": 4,
 "nbformat_minor": 5
}
