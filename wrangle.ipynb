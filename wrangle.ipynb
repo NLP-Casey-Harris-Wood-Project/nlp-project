{
 "cells": [
  {
   "cell_type": "markdown",
   "id": "067c6c6b",
   "metadata": {},
   "source": [
    "<!-- <div style='background-color:orange'> -->\n",
    "<a id=\"TableOfContents\"></a>\n",
    "    <h1 style='text-align:center ; top-padding:5px'>\n",
    "        <b><i>\n",
    "            TABLE OF CONTENTS:\n",
    "        </i></b></h1>\n",
    "    <li><a href='#imports'>Imports</a>\n",
    "    <li><a href=\"#acquire\">Acquire</a>\n",
    "    <li><a href='#prepare'>Prepare</a>\n",
    "    <li><a href=\"#wrangle\">Wrangle</a>\n",
    "    <li><a href='#misc'>Miscellaneous</a>\n",
    "    </li>\n",
    "</div>"
   ]
  },
  {
   "cell_type": "markdown",
   "id": "793b55d6",
   "metadata": {},
   "source": [
    "<!-- <div style='background-color:orange'> -->\n",
    "<a id=\"imports\"></a>\n",
    "    <h1 style='text-align:center ; top-padding:5px'>\n",
    "        <b><i>\n",
    "            Imports\n",
    "        </i></b></h1>\n",
    "    <li><a href='#TableOfContents'>Table of Contents</a>\n",
    "    </li>\n",
    "</div>"
   ]
  },
  {
   "cell_type": "code",
   "execution_count": 1,
   "id": "beb5f3e4",
   "metadata": {},
   "outputs": [],
   "source": [
    "# Vectorization and tables\n",
    "import numpy as np\n",
    "import pandas as pd\n",
    "\n",
    "# .py file\n",
    "import wrangle as w"
   ]
  },
  {
   "cell_type": "markdown",
   "id": "84cd970a",
   "metadata": {},
   "source": [
    "<!-- <div style='background-color:orange'> -->\n",
    "<a id=\"acquire\"></a>\n",
    "    <h1 style='text-align:center ; top-padding:5px'>\n",
    "        <b><i>\n",
    "            Acquire\n",
    "        </i></b></h1>\n",
    "    <li><a href='#TableOfContents'>Table of Contents</a>\n",
    "    </li>\n",
    "</div>"
   ]
  },
  {
   "cell_type": "code",
   "execution_count": 2,
   "id": "87b1b6f7",
   "metadata": {},
   "outputs": [
    {
     "data": {
      "text/plain": [
       "(500, 3)"
      ]
     },
     "execution_count": 2,
     "metadata": {},
     "output_type": "execute_result"
    }
   ],
   "source": [
    "vanilla_df = w.acquire_github_repositories()\n",
    "vanilla_df.shape"
   ]
  },
  {
   "cell_type": "markdown",
   "id": "9dbe69c7",
   "metadata": {},
   "source": [
    "Acquire vanilla data of github repositories via web-scraping\n",
    "\n",
    "- Github Vanilla Shape:\n",
    "    - Rows: 500\n",
    "    - Columns: 4"
   ]
  },
  {
   "cell_type": "markdown",
   "id": "3fc72510",
   "metadata": {},
   "source": [
    "<!-- <div style='background-color:orange'> -->\n",
    "<a id=\"prepare\"></a>\n",
    "    <h1 style='text-align:center ; top-padding:5px'>\n",
    "        <b><i>\n",
    "            Prepare\n",
    "        </i></b></h1>\n",
    "    <li><a href='#TableOfContents'>Table of Contents</a>\n",
    "    </li>\n",
    "</div>"
   ]
  },
  {
   "cell_type": "code",
   "execution_count": 3,
   "id": "38a01725",
   "metadata": {},
   "outputs": [
    {
     "name": "stderr",
     "output_type": "stream",
     "text": [
      "/Users/manupfool/codeup-data-science/nlp-project-team/wrangle_jared.py:261: SettingWithCopyWarning: \n",
      "A value is trying to be set on a copy of a slice from a DataFrame.\n",
      "Try using .loc[row_indexer,col_indexer] = value instead\n",
      "\n",
      "See the caveats in the documentation: https://pandas.pydata.org/pandas-docs/stable/user_guide/indexing.html#returning-a-view-versus-a-copy\n",
      "  python_only_df['cleaned_readme_contents'] = full_clean(python_only_df.readme_contents, extra_removal_words=['python'])\n",
      "/Users/manupfool/codeup-data-science/nlp-project-team/wrangle_jared.py:262: SettingWithCopyWarning: \n",
      "A value is trying to be set on a copy of a slice from a DataFrame.\n",
      "Try using .loc[row_indexer,col_indexer] = value instead\n",
      "\n",
      "See the caveats in the documentation: https://pandas.pydata.org/pandas-docs/stable/user_guide/indexing.html#returning-a-view-versus-a-copy\n",
      "  html_only_df['cleaned_readme_contents'] = full_clean(html_only_df.readme_contents, extra_removal_words=['html'])\n",
      "/Users/manupfool/codeup-data-science/nlp-project-team/wrangle_jared.py:266: SettingWithCopyWarning: \n",
      "A value is trying to be set on a copy of a slice from a DataFrame.\n",
      "Try using .loc[row_indexer,col_indexer] = value instead\n",
      "\n",
      "See the caveats in the documentation: https://pandas.pydata.org/pandas-docs/stable/user_guide/indexing.html#returning-a-view-versus-a-copy\n",
      "  python_only_df.cleaned_readme_contents = removed_target_python\n",
      "/Users/manupfool/codeup-data-science/nlp-project-team/wrangle_jared.py:270: SettingWithCopyWarning: \n",
      "A value is trying to be set on a copy of a slice from a DataFrame.\n",
      "Try using .loc[row_indexer,col_indexer] = value instead\n",
      "\n",
      "See the caveats in the documentation: https://pandas.pydata.org/pandas-docs/stable/user_guide/indexing.html#returning-a-view-versus-a-copy\n",
      "  html_only_df.cleaned_readme_contents = removed_target_html\n"
     ]
    },
    {
     "data": {
      "text/plain": [
       "(500, 4)"
      ]
     },
     "execution_count": 3,
     "metadata": {},
     "output_type": "execute_result"
    }
   ],
   "source": [
    "prepped_df = w.prepare_github_repositories()\n",
    "prepped_df.shape"
   ]
  },
  {
   "cell_type": "markdown",
   "id": "01d5493b",
   "metadata": {},
   "source": [
    "Prepared data of github repositories\n",
    "\n",
    "- Github Prepared Shape:\n",
    "    - Rows: 500\n",
    "    - Columns: 4"
   ]
  },
  {
   "cell_type": "markdown",
   "id": "56c707c4",
   "metadata": {},
   "source": [
    "<!-- <div style='background-color:orange'> -->\n",
    "<a id=\"wrangle\"></a>\n",
    "    <h1 style='text-align:center ; top-padding:5px'>\n",
    "        <b><i>\n",
    "            Wrangle\n",
    "        </i></b></h1>\n",
    "    <li><a href='#TableOfContents'>Table of Contents</a>\n",
    "    </li>\n",
    "</div>"
   ]
  },
  {
   "cell_type": "code",
   "execution_count": 4,
   "id": "2de9bf76",
   "metadata": {},
   "outputs": [
    {
     "name": "stderr",
     "output_type": "stream",
     "text": [
      "/Users/manupfool/codeup-data-science/nlp-project-team/wrangle_jared.py:261: SettingWithCopyWarning: \n",
      "A value is trying to be set on a copy of a slice from a DataFrame.\n",
      "Try using .loc[row_indexer,col_indexer] = value instead\n",
      "\n",
      "See the caveats in the documentation: https://pandas.pydata.org/pandas-docs/stable/user_guide/indexing.html#returning-a-view-versus-a-copy\n",
      "  python_only_df['cleaned_readme_contents'] = full_clean(python_only_df.readme_contents, extra_removal_words=['python'])\n",
      "/Users/manupfool/codeup-data-science/nlp-project-team/wrangle_jared.py:262: SettingWithCopyWarning: \n",
      "A value is trying to be set on a copy of a slice from a DataFrame.\n",
      "Try using .loc[row_indexer,col_indexer] = value instead\n",
      "\n",
      "See the caveats in the documentation: https://pandas.pydata.org/pandas-docs/stable/user_guide/indexing.html#returning-a-view-versus-a-copy\n",
      "  html_only_df['cleaned_readme_contents'] = full_clean(html_only_df.readme_contents, extra_removal_words=['html'])\n",
      "/Users/manupfool/codeup-data-science/nlp-project-team/wrangle_jared.py:266: SettingWithCopyWarning: \n",
      "A value is trying to be set on a copy of a slice from a DataFrame.\n",
      "Try using .loc[row_indexer,col_indexer] = value instead\n",
      "\n",
      "See the caveats in the documentation: https://pandas.pydata.org/pandas-docs/stable/user_guide/indexing.html#returning-a-view-versus-a-copy\n",
      "  python_only_df.cleaned_readme_contents = removed_target_python\n",
      "/Users/manupfool/codeup-data-science/nlp-project-team/wrangle_jared.py:270: SettingWithCopyWarning: \n",
      "A value is trying to be set on a copy of a slice from a DataFrame.\n",
      "Try using .loc[row_indexer,col_indexer] = value instead\n",
      "\n",
      "See the caveats in the documentation: https://pandas.pydata.org/pandas-docs/stable/user_guide/indexing.html#returning-a-view-versus-a-copy\n",
      "  html_only_df.cleaned_readme_contents = removed_target_html\n"
     ]
    },
    {
     "data": {
      "text/plain": [
       "(500, 4)"
      ]
     },
     "execution_count": 4,
     "metadata": {},
     "output_type": "execute_result"
    }
   ],
   "source": [
    "# Check wrangle functionality\n",
    "wrangled_df = w.wrangle_github_repositories()\n",
    "wrangled_df.shape"
   ]
  },
  {
   "cell_type": "code",
   "execution_count": 5,
   "id": "558ed1f6",
   "metadata": {},
   "outputs": [
    {
     "name": "stdout",
     "output_type": "stream",
     "text": [
      "\u001b[32mPython Repositories With Python In Contents:\u001b[0m 0\n",
      "\u001b[32mHTML Repositories With HTML In Contents:\u001b[0m 0\n"
     ]
    }
   ],
   "source": [
    "# Ensure absence of 'python' in predominantly python repositories\n",
    "# Ensure absence of 'html' in predominantly html repositories\n",
    "python_poison_cnt = wrangled_df[wrangled_df.language == 'Python'].cleaned_readme_contents.str.contains('python').sum()\n",
    "html_poison_cnt = wrangled_df[wrangled_df.language == 'HTML'].cleaned_readme_contents.str.contains('html').sum()\n",
    "print(f'\\033[32mPython Repositories With Python In Contents:\\033[0m {python_poison_cnt}')\n",
    "print(f'\\033[32mHTML Repositories With HTML In Contents:\\033[0m {html_poison_cnt}')"
   ]
  },
  {
   "cell_type": "markdown",
   "id": "df3853ba",
   "metadata": {},
   "source": [
    "<!-- <div style='background-color:orange'> -->\n",
    "<a id=\"misc\"></a>\n",
    "    <h1 style='text-align:center ; top-padding:5px'>\n",
    "        <b><i>\n",
    "            Miscellaneous\n",
    "        </i></b></h1>\n",
    "    <li><a href='#TableOfContents'>Table of Contents</a>\n",
    "    </li>\n",
    "</div>"
   ]
  },
  {
   "cell_type": "code",
   "execution_count": null,
   "id": "4368ea77",
   "metadata": {},
   "outputs": [],
   "source": []
  }
 ],
 "metadata": {
  "kernelspec": {
   "display_name": "Python 3 (ipykernel)",
   "language": "python",
   "name": "python3"
  },
  "language_info": {
   "codemirror_mode": {
    "name": "ipython",
    "version": 3
   },
   "file_extension": ".py",
   "mimetype": "text/x-python",
   "name": "python",
   "nbconvert_exporter": "python",
   "pygments_lexer": "ipython3",
   "version": "3.9.13"
  }
 },
 "nbformat": 4,
 "nbformat_minor": 5
}
